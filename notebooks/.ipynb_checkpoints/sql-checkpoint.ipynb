{
 "cells": [
  {
   "cell_type": "code",
   "execution_count": 15,
   "metadata": {},
   "outputs": [
    {
     "data": {
      "text/plain": [
       "True"
      ]
     },
     "execution_count": 15,
     "metadata": {},
     "output_type": "execute_result"
    }
   ],
   "source": [
    "import pandas as pd\n",
    "import sqlite3\n",
    "import psycopg2\n",
    "from dotenv import load_dotenv\n",
    "from psycopg2 import extras\n",
    "import os\n",
    "load_dotenv()"
   ]
  },
  {
   "cell_type": "markdown",
   "metadata": {},
   "source": [
    "### Load Data\n",
    "\n",
    "Im only loading in 10,000 rows because our heroku account can only hold 10,000 rows. Our production implementation would house all the data"
   ]
  },
  {
   "cell_type": "code",
   "execution_count": 41,
   "metadata": {},
   "outputs": [
    {
     "name": "stdout",
     "output_type": "stream",
     "text": [
      "The shape of the data: (42230, 83)\n"
     ]
    },
    {
     "name": "stderr",
     "output_type": "stream",
     "text": [
      "/Users/mph/opt/anaconda3/lib/python3.7/site-packages/IPython/core/interactiveshell.py:3058: DtypeWarning: Columns (70,71,72,73,74,76,79) have mixed types. Specify dtype option on import or set low_memory=False.\n",
      "  interactivity=interactivity, compiler=compiler, result=result)\n"
     ]
    }
   ],
   "source": [
    "# Data from EPA includes all vehicles from ~1980-2020, choose your appropriate path\n",
    "path = \"../data/vehicles.csv\"\n",
    "# path = \"https://raw.githubusercontent.com/mpHarm88/streetsmart/master/data/vehicles.csv\"\n",
    "\n",
    "df = pd.read_csv(path)\n",
    "print(f\"The shape of the data: {df.shape}\")"
   ]
  },
  {
   "cell_type": "markdown",
   "metadata": {},
   "source": [
    "### SQLite3\n",
    "\n",
    "SQL Refresher: https://colab.research.google.com/drive/1TBEFJvxTwkIKf0HaXAsvjeB61RHhy2Lq\n",
    "\n",
    "Make sure that you dont already have a sqlite3 database called \"epa_data_test.sqlite3\", if you already do then this cell will error. Delete the database in your working directory and execute the cell again."
   ]
  },
  {
   "cell_type": "code",
   "execution_count": 42,
   "metadata": {},
   "outputs": [],
   "source": [
    "# Create connection to local sqlite3 database\n",
    "sl_conn = sqlite3.Connection(\"epa_data_test.sqlite3\")\n",
    "sl_curs = sl_conn.cursor()"
   ]
  },
  {
   "cell_type": "code",
   "execution_count": 43,
   "metadata": {},
   "outputs": [],
   "source": [
    "# Populate the database. The table name is \"epa_vehicles_test\" and verify in TablePlus\n",
    "\n",
    "# index=False so we dont create another column, instead we will create the already represented id column as the serial primary key.\n",
    "df.to_sql(\"epa_vehicles_test\", sl_conn, index=False)"
   ]
  },
  {
   "cell_type": "code",
   "execution_count": 44,
   "metadata": {},
   "outputs": [
    {
     "data": {
      "text/plain": [
       "[(42230,)]"
      ]
     },
     "execution_count": 44,
     "metadata": {},
     "output_type": "execute_result"
    }
   ],
   "source": [
    "# Verify by counting how many rows are in the data\n",
    "all_data = sl_curs.execute(\"SELECT COUNT(*) FROM epa_vehicles_test\").fetchall()\n",
    "\n",
    "# all_data contains 10,000 rows as expected\n",
    "all_data"
   ]
  },
  {
   "cell_type": "markdown",
   "metadata": {},
   "source": [
    "### Psycopg2 and Heroku"
   ]
  },
  {
   "cell_type": "code",
   "execution_count": 48,
   "metadata": {},
   "outputs": [],
   "source": [
    "#Load credentials from .env\n",
    "name = os.getenv(\"DB_NAME_AWS\")\n",
    "password = os.getenv(\"DB_PW_AWS\")\n",
    "host = os.getenv(\"DB_HOST_AWS\")\n",
    "user = os.getenv(\"DB_USER_AWS\")\n",
    "port = os.getenv(\"DB_PORT_AWS\")\n",
    "\n",
    "\n",
    "# Create connection to heroku database\n",
    "pg_conn = psycopg2.connect(dbname=name,\n",
    "                           user=user,\n",
    "                           password=password,\n",
    "                           host=host,\n",
    "                           port=port\n",
    "                          )\n",
    "\n",
    "# Create cursor object\n",
    "pg_curs = pg_conn.cursor()"
   ]
  },
  {
   "cell_type": "code",
   "execution_count": null,
   "metadata": {},
   "outputs": [],
   "source": []
  },
  {
   "cell_type": "markdown",
   "metadata": {},
   "source": [
    "### Create Table Statement\n",
    "\n",
    "I think we should keep the original table names, this makes it easier for the next LABS group to recognize each column and keep continuity with the data dictionary provided by the EPA"
   ]
  },
  {
   "cell_type": "code",
   "execution_count": 33,
   "metadata": {
    "collapsed": true,
    "jupyter": {
     "outputs_hidden": true
    }
   },
   "outputs": [
    {
     "name": "stdout",
     "output_type": "stream",
     "text": [
      "<class 'pandas.core.frame.DataFrame'>\n",
      "RangeIndex: 10000 entries, 0 to 9999\n",
      "Data columns (total 83 columns):\n",
      " #   Column           Non-Null Count  Dtype  \n",
      "---  ------           --------------  -----  \n",
      " 0   barrels08        10000 non-null  float64\n",
      " 1   barrelsA08       10000 non-null  float64\n",
      " 2   charge120        10000 non-null  float64\n",
      " 3   charge240        10000 non-null  float64\n",
      " 4   city08           10000 non-null  int64  \n",
      " 5   city08U          10000 non-null  float64\n",
      " 6   cityA08          10000 non-null  int64  \n",
      " 7   cityA08U         10000 non-null  float64\n",
      " 8   cityCD           10000 non-null  float64\n",
      " 9   cityE            10000 non-null  float64\n",
      " 10  cityUF           10000 non-null  float64\n",
      " 11  co2              10000 non-null  int64  \n",
      " 12  co2A             10000 non-null  int64  \n",
      " 13  co2TailpipeAGpm  10000 non-null  float64\n",
      " 14  co2TailpipeGpm   10000 non-null  float64\n",
      " 15  comb08           10000 non-null  int64  \n",
      " 16  comb08U          10000 non-null  float64\n",
      " 17  combA08          10000 non-null  int64  \n",
      " 18  combA08U         10000 non-null  float64\n",
      " 19  combE            10000 non-null  float64\n",
      " 20  combinedCD       10000 non-null  float64\n",
      " 21  combinedUF       10000 non-null  float64\n",
      " 22  cylinders        9992 non-null   float64\n",
      " 23  displ            9992 non-null   float64\n",
      " 24  drive            9997 non-null   object \n",
      " 25  engId            10000 non-null  int64  \n",
      " 26  eng_dscr         6107 non-null   object \n",
      " 27  feScore          10000 non-null  int64  \n",
      " 28  fuelCost08       10000 non-null  int64  \n",
      " 29  fuelCostA08      10000 non-null  int64  \n",
      " 30  fuelType         10000 non-null  object \n",
      " 31  fuelType1        10000 non-null  object \n",
      " 32  ghgScore         10000 non-null  int64  \n",
      " 33  ghgScoreA        10000 non-null  int64  \n",
      " 34  highway08        10000 non-null  int64  \n",
      " 35  highway08U       10000 non-null  float64\n",
      " 36  highwayA08       10000 non-null  int64  \n",
      " 37  highwayA08U      10000 non-null  float64\n",
      " 38  highwayCD        10000 non-null  float64\n",
      " 39  highwayE         10000 non-null  float64\n",
      " 40  highwayUF        10000 non-null  float64\n",
      " 41  hlv              10000 non-null  int64  \n",
      " 42  hpv              10000 non-null  int64  \n",
      " 43  id               10000 non-null  int64  \n",
      " 44  lv2              10000 non-null  int64  \n",
      " 45  lv4              10000 non-null  int64  \n",
      " 46  make             10000 non-null  object \n",
      " 47  model            10000 non-null  object \n",
      " 48  mpgData          10000 non-null  object \n",
      " 49  phevBlended      10000 non-null  bool   \n",
      " 50  pv2              10000 non-null  int64  \n",
      " 51  pv4              10000 non-null  int64  \n",
      " 52  range            10000 non-null  int64  \n",
      " 53  rangeCity        10000 non-null  float64\n",
      " 54  rangeCityA       10000 non-null  float64\n",
      " 55  rangeHwy         10000 non-null  float64\n",
      " 56  rangeHwyA        10000 non-null  float64\n",
      " 57  trany            9992 non-null   object \n",
      " 58  UCity            10000 non-null  float64\n",
      " 59  UCityA           10000 non-null  float64\n",
      " 60  UHighway         10000 non-null  float64\n",
      " 61  UHighwayA        10000 non-null  float64\n",
      " 62  VClass           10000 non-null  object \n",
      " 63  year             10000 non-null  int64  \n",
      " 64  youSaveSpend     10000 non-null  int64  \n",
      " 65  guzzler          463 non-null    object \n",
      " 66  trans_dscr       5979 non-null   object \n",
      " 67  tCharger         738 non-null    object \n",
      " 68  sCharger         128 non-null    object \n",
      " 69  atvType          305 non-null    object \n",
      " 70  fuelType2        70 non-null     object \n",
      " 71  rangeA           65 non-null     object \n",
      " 72  evMotor          8 non-null      object \n",
      " 73  mfrCode          0 non-null      float64\n",
      " 74  c240Dscr         0 non-null      float64\n",
      " 75  charge240b       10000 non-null  float64\n",
      " 76  c240bDscr        0 non-null      float64\n",
      " 77  createdOn        10000 non-null  object \n",
      " 78  modifiedOn       10000 non-null  object \n",
      " 79  startStop        21 non-null     object \n",
      " 80  phevCity         10000 non-null  int64  \n",
      " 81  phevHwy          10000 non-null  int64  \n",
      " 82  phevComb         10000 non-null  int64  \n",
      "dtypes: bool(1), float64(35), int64(27), object(20)\n",
      "memory usage: 6.3+ MB\n"
     ]
    }
   ],
   "source": [
    "#Look at column names and dtypes\n",
    "df.info()"
   ]
  },
  {
   "cell_type": "code",
   "execution_count": 50,
   "metadata": {},
   "outputs": [],
   "source": [
    "table = \"\"\"\n",
    "CREATE TABLE epa_vehicles_all(\n",
    "    barrels08 REAL,\n",
    "    barrelsA08 REAL,\n",
    "    charge120 REAL,\n",
    "    charge240 REAL,\n",
    "    city08 REAL,\n",
    "    city08U REAL,\n",
    "    cityA08 REAL,\n",
    "    cityA08U REAL,\n",
    "    cityCD REAL,\n",
    "    cityE REAL,\n",
    "    cityUF REAL,\n",
    "    co2 REAL,\n",
    "    co2A REAL,\n",
    "    co2TailpipeAGpm REAL,\n",
    "    co2TailpipeGpm REAL,\n",
    "    comb08 REAL,\n",
    "    comb08U REAL,\n",
    "    combA08 REAL,\n",
    "    combA08U REAL,\n",
    "    combE REAL,\n",
    "    combinedCD REAL,\n",
    "    combinedUF REAL,\n",
    "    cylinders REAL,\n",
    "    displ REAL,\n",
    "    drive VARCHAR,\n",
    "    engID REAL,\n",
    "    eng_dscr VARCHAR,\n",
    "    feScore REAL,\n",
    "    fuelCost08 REAL,\n",
    "    fuelCostA08 REAL,\n",
    "    fuelType VARCHAR,\n",
    "    fuelType1 VARCHAR,\n",
    "    ghgScore REAL,\n",
    "    ghgScoreA REAL,\n",
    "    highway08 REAL,\n",
    "    highway08U REAL,\n",
    "    highwayA08 REAL,\n",
    "    highwayA08U REAL,\n",
    "    highwayCD REAL,\n",
    "    highwayE REAL,\n",
    "    highwayUF REAL,\n",
    "    hlv REAL,\n",
    "    hpv REAL,\n",
    "    id SERIAL PRIMARY KEY,\n",
    "    lv2 REAL,\n",
    "    lv4 REAL,\n",
    "    make VARCHAR,\n",
    "    model VARCHAR,\n",
    "    mpgData VARCHAR,\n",
    "    phevBlended REAL,\n",
    "    pv2 REAL,\n",
    "    pv4 REAL,\n",
    "    range REAL,\n",
    "    rangeCity REAL,\n",
    "    rangeCityA REAL,\n",
    "    rangeHwy REAL,\n",
    "    rangeHwyA REAL,\n",
    "    trany VARCHAR,\n",
    "    UCity REAL,\n",
    "    UCityA REAL,\n",
    "    UHighway REAL,\n",
    "    UHighwayA REAL,\n",
    "    VClass VARCHAR,\n",
    "    year REAL,\n",
    "    youSaveSpend REAL,\n",
    "    guzzler VARCHAR,\n",
    "    trans_dscr VARCHAR,\n",
    "    tCharger VARCHAR,\n",
    "    sCharger VARCHAR,\n",
    "    atvType VARCHAR,\n",
    "    fuelType2 VARCHAR,\n",
    "    rangeA VARCHAR,\n",
    "    evMotor VARCHAR,\n",
    "    mfrCode VARCHAR,\n",
    "    c240Dscr VARCHAR,\n",
    "    charge240b REAL,\n",
    "    c240bDscr VARCHAR,\n",
    "    createdOn VARCHAR,\n",
    "    modifiedOn VARCHAR,\n",
    "    startStop VARCHAR,\n",
    "    phevCity REAL,\n",
    "    phevHwy REAL,\n",
    "    phevComb REAL\n",
    ")\n",
    "\"\"\""
   ]
  },
  {
   "cell_type": "markdown",
   "metadata": {},
   "source": [
    "### Only run the next cell if you want t drop the table from the database"
   ]
  },
  {
   "cell_type": "code",
   "execution_count": 49,
   "metadata": {},
   "outputs": [],
   "source": [
    "# pg_curs.execute(\"DROP TABLE epa_vehicles_all\")\n",
    "# pg_conn.commit()"
   ]
  },
  {
   "cell_type": "code",
   "execution_count": 51,
   "metadata": {},
   "outputs": [],
   "source": [
    "# Create the table\n",
    "pg_curs.execute(table)\n",
    "\n",
    "# Save the results\n",
    "pg_conn.commit()"
   ]
  },
  {
   "cell_type": "markdown",
   "metadata": {},
   "source": [
    "### Insert the Data\n",
    "\n",
    "Stack Overflow Help: ## h/t: https://stackoverflow.com/questions/8134602/psycopg2-insert-multiple-rows-with-one-query\n",
    "\n",
    "Execute Values Docs: https://www.psycopg.org/docs/extras.html#psycopg2.extras.execute_values"
   ]
  },
  {
   "cell_type": "code",
   "execution_count": 52,
   "metadata": {},
   "outputs": [
    {
     "data": {
      "text/plain": [
       "83"
      ]
     },
     "execution_count": 52,
     "metadata": {},
     "output_type": "execute_result"
    }
   ],
   "source": [
    "# Gathering all the data\n",
    "data = sl_curs.execute(\"SELECT * FROM epa_vehicles_test\").fetchall()\n",
    "\n",
    "# Length of values matches the length of columns\n",
    "len(data[0])"
   ]
  },
  {
   "cell_type": "code",
   "execution_count": 53,
   "metadata": {},
   "outputs": [],
   "source": [
    "# Set up the query\n",
    "query = \"\"\"INSERT INTO epa_vehicles_all (barrels08 ,barrelsA08,charge120,charge240,city08,city08U,cityA08,cityA08U,cityCD,cityE,cityUF,\n",
    "co2,co2A,co2TailpipeAGpm,co2TailpipeGpm,comb08,comb08U,combA08,combA08U,combE,combinedCD,combinedUF,cylinders,displ,drive,engID,eng_dscr,\n",
    "feScore,fuelCost08,fuelCostA08,fuelType,fuelType1,ghgScore,ghgScoreA,highway08,highway08U,highwayA08,highwayA08U,highwayCD,highwayE,\n",
    "highwayUF,hlv,hpv,id,lv2,lv4,make,model,mpgData,phevBlended,pv2,pv4,range,rangeCity,rangeCityA,rangeHwy,rangeHwyA,trany,UCity,UCityA,UHighway,\n",
    "UHighwayA,VClass,year,youSaveSpend,guzzler,trans_dscr,tCharger,sCharger,atvType,fuelType2,rangeA,evMotor,mfrCode,c240Dscr,charge240b,\n",
    "c240bDscr,createdOn,modifiedOn,startStop,phevCity,phevHwy,phevComb) VALUES %s\"\"\"\n",
    "\n",
    "# Insert the data\n",
    "extras.execute_values(pg_curs, query, data)\n",
    "\n",
    "# Save the results\n",
    "pg_conn.commit()"
   ]
  },
  {
   "cell_type": "markdown",
   "metadata": {},
   "source": [
    "### Test"
   ]
  },
  {
   "cell_type": "code",
   "execution_count": 54,
   "metadata": {},
   "outputs": [
    {
     "data": {
      "text/plain": [
       "(15.6957,\n",
       " 0.0,\n",
       " 0.0,\n",
       " 0.0,\n",
       " 19.0,\n",
       " 0.0,\n",
       " 0.0,\n",
       " 0.0,\n",
       " 0.0,\n",
       " 0.0,\n",
       " 0.0,\n",
       " -1.0,\n",
       " -1.0,\n",
       " 0.0,\n",
       " 423.19,\n",
       " 21.0,\n",
       " 0.0,\n",
       " 0.0,\n",
       " 0.0,\n",
       " 0.0,\n",
       " 0.0,\n",
       " 0.0,\n",
       " 4.0,\n",
       " 2.0,\n",
       " 'Rear-Wheel Drive',\n",
       " 9011.0,\n",
       " '(FFS)',\n",
       " -1.0,\n",
       " 1300.0,\n",
       " 0.0,\n",
       " 'Regular',\n",
       " 'Regular Gasoline',\n",
       " -1.0,\n",
       " -1.0,\n",
       " 25.0,\n",
       " 0.0,\n",
       " 0.0,\n",
       " 0.0,\n",
       " 0.0,\n",
       " 0.0,\n",
       " 0.0,\n",
       " 0.0,\n",
       " 0.0,\n",
       " 1,\n",
       " 0.0,\n",
       " 0.0,\n",
       " 'Alfa Romeo',\n",
       " 'Spider Veloce 2000',\n",
       " 'Y',\n",
       " 0.0,\n",
       " 0.0,\n",
       " 0.0,\n",
       " 0.0,\n",
       " 0.0,\n",
       " 0.0,\n",
       " 0.0,\n",
       " 0.0,\n",
       " 'Manual 5-spd',\n",
       " 23.3333,\n",
       " 0.0,\n",
       " 35.0,\n",
       " 0.0,\n",
       " 'Two Seaters',\n",
       " 1985.0,\n",
       " -1500.0,\n",
       " None,\n",
       " None,\n",
       " None,\n",
       " None,\n",
       " None,\n",
       " None,\n",
       " None,\n",
       " None,\n",
       " None,\n",
       " None,\n",
       " 0.0,\n",
       " None,\n",
       " 'Tue Jan 01 00:00:00 EST 2013',\n",
       " 'Tue Jan 01 00:00:00 EST 2013',\n",
       " None,\n",
       " 0.0,\n",
       " 0.0,\n",
       " 0.0)"
      ]
     },
     "execution_count": 54,
     "metadata": {},
     "output_type": "execute_result"
    }
   ],
   "source": [
    "# Test to see if its possible to make a query to the database\n",
    "pg_curs.execute(\"SELECT * FROM epa_vehicles_all;\")\n",
    "pg_curs.fetchall()[0]"
   ]
  },
  {
   "cell_type": "markdown",
   "metadata": {},
   "source": [
    "### Close all connections and cursors\n",
    "\n",
    "If you dont close the connection it will remain open, heroku only allows a few connections to be open to the database at a time, please close them."
   ]
  },
  {
   "cell_type": "code",
   "execution_count": 55,
   "metadata": {},
   "outputs": [],
   "source": [
    "# SQLite3\n",
    "sl_curs.close()\n",
    "sl_conn.close()"
   ]
  },
  {
   "cell_type": "code",
   "execution_count": 56,
   "metadata": {},
   "outputs": [],
   "source": [
    "# Psycopg2\n",
    "pg_conn.close()\n",
    "pg_curs.close()"
   ]
  },
  {
   "cell_type": "code",
   "execution_count": null,
   "metadata": {},
   "outputs": [],
   "source": []
  }
 ],
 "metadata": {
  "kernelspec": {
   "display_name": "Python 3",
   "language": "python",
   "name": "python3"
  },
  "language_info": {
   "codemirror_mode": {
    "name": "ipython",
    "version": 3
   },
   "file_extension": ".py",
   "mimetype": "text/x-python",
   "name": "python",
   "nbconvert_exporter": "python",
   "pygments_lexer": "ipython3",
   "version": "3.7.4"
  }
 },
 "nbformat": 4,
 "nbformat_minor": 4
}
