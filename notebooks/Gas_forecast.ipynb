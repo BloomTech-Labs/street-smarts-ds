{
  "nbformat": 4,
  "nbformat_minor": 0,
  "metadata": {
    "colab": {
      "name": "Gas_forecast.ipynb",
      "provenance": []
    },
    "kernelspec": {
      "name": "python3",
      "display_name": "Python 3"
    }
  },
  "cells": [
    {
      "cell_type": "code",
      "metadata": {
        "id": "Owazyi8fqbwd",
        "colab_type": "code",
        "colab": {}
      },
      "source": [
        "import pandas as pd\n",
        "import numpy as np\n",
        "import matplotlib.pyplot as plt\n",
        "\n",
        "# Time series\n",
        "from datetime import datetime\n",
        "import scipy.stats\n",
        "import pylab\n",
        "from pandas.plotting import autocorrelation_plot\n",
        "from statsmodels.graphics.tsaplots import plot_pacf\n",
        "from statsmodels.tsa.arima_model import ARIMA\n",
        "\n",
        " # Error Metrics\n",
        "from sklearn.metrics import mean_squared_error\n",
        "from sklearn.metrics import mean_absolute_error\n",
        "from sklearn.metrics import r2_score\n",
        "\n",
        "# Models\n",
        "from xgboost import XGBRegressor\n",
        "from sklearn.linear_model import Ridge\n",
        "from sklearn.linear_model import Lasso\n",
        "from sklearn.linear_model import LinearRegression\n",
        "from sklearn.ensemble import RandomForestRegressor\n",
        "from sklearn.model_selection import GridSearchCV"
      ],
      "execution_count": 0,
      "outputs": []
    },
    {
      "cell_type": "code",
      "metadata": {
        "id": "koJaqBdUqfW8",
        "colab_type": "code",
        "colab": {}
      },
      "source": [
        "# Use data from google drive\n",
        "!pip install -U -q PyDrive\n",
        "from pydrive.auth import GoogleAuth\n",
        "from pydrive.drive import GoogleDrive\n",
        "from google.colab import auth\n",
        "from oauth2client.client import GoogleCredentials\n",
        "\n",
        "# 1. Authenticate and create the PyDrive client.\n",
        "auth.authenticate_user()\n",
        "gauth = GoogleAuth()\n",
        "gauth.credentials = GoogleCredentials.get_application_default()\n",
        "drive = GoogleDrive(gauth)\n",
        "\n",
        "# Go to link, sign in, and paste in result"
      ],
      "execution_count": 0,
      "outputs": []
    },
    {
      "cell_type": "code",
      "metadata": {
        "id": "WnWCeKlPqiUz",
        "colab_type": "code",
        "outputId": "10b03329-aebd-4856-9e1d-12bd421566d3",
        "colab": {
          "base_uri": "https://localhost:8080/",
          "height": 85
        }
      },
      "source": [
        "# Print a list of all files in a specified Drive folder\n",
        "file_list = drive.ListFile({'q': \"'1kE03N5LwmWDDsDescCPmlQxGsY7ZKEnT' in parents and trashed=false\"}).GetList()\n",
        "for file1 in file_list:\n",
        "  print('title: %s, id: %s' % (file1['title'], file1['id']))"
      ],
      "execution_count": 0,
      "outputs": [
        {
          "output_type": "stream",
          "text": [
            "title: Weekly_U.S._All_Grades_All_Formulations_Retail_Gasoline_Prices, id: 1cmGfdjaAd7RXYa_9S8RcraEDBA1fJKoKzB17KcaEo7Y\n",
            "title: Weekly_U.S._All_Grades_All_Formulations_Retail_Gasoline_Prices.csv, id: 1pBHxMMMbUXZfFhNj5c2KqFq_dm4EkYOK\n",
            "title: vehicles.csv, id: 12aa_5F_dECaFGjQR5KYZwToAqhHouUNi\n",
            "title: carfullspecs.csv, id: 1Y9oQ0huvw3LYnbafa-AM7Ig5cOK95DkD\n"
          ],
          "name": "stdout"
        }
      ]
    },
    {
      "cell_type": "code",
      "metadata": {
        "id": "cl83ZRqzqjx8",
        "colab_type": "code",
        "colab": {}
      },
      "source": [
        "# Look up the specified file id and download it by name\n",
        "downloaded = drive.CreateFile({'id':\"1pBHxMMMbUXZfFhNj5c2KqFq_dm4EkYOK\"})  \n",
        "downloaded.GetContentFile('Weekly_U.S._All_Grades_All_Formulations_Retail_Gasoline_Prices.csv')       "
      ],
      "execution_count": 0,
      "outputs": []
    },
    {
      "cell_type": "markdown",
      "metadata": {
        "id": "Z0B8T7tZdHio",
        "colab_type": "text"
      },
      "source": [
        "## Load and explore data"
      ]
    },
    {
      "cell_type": "code",
      "metadata": {
        "id": "2LtZqIgSq7BU",
        "colab_type": "code",
        "outputId": "2736d471-d6cd-40c1-a5b0-1fdbf3659a22",
        "colab": {
          "base_uri": "https://localhost:8080/",
          "height": 419
        }
      },
      "source": [
        "# Weekly data\n",
        "df_orig = pd.read_csv('Weekly_U.S._All_Grades_All_Formulations_Retail_Gasoline_Prices.csv'\n",
        "          , header=4, names=['Date', 'Price'])\n",
        "df = df_orig.copy()\n",
        "df"
      ],
      "execution_count": 0,
      "outputs": [
        {
          "output_type": "execute_result",
          "data": {
            "text/html": [
              "<div>\n",
              "<style scoped>\n",
              "    .dataframe tbody tr th:only-of-type {\n",
              "        vertical-align: middle;\n",
              "    }\n",
              "\n",
              "    .dataframe tbody tr th {\n",
              "        vertical-align: top;\n",
              "    }\n",
              "\n",
              "    .dataframe thead th {\n",
              "        text-align: right;\n",
              "    }\n",
              "</style>\n",
              "<table border=\"1\" class=\"dataframe\">\n",
              "  <thead>\n",
              "    <tr style=\"text-align: right;\">\n",
              "      <th></th>\n",
              "      <th>Date</th>\n",
              "      <th>Price</th>\n",
              "    </tr>\n",
              "  </thead>\n",
              "  <tbody>\n",
              "    <tr>\n",
              "      <th>0</th>\n",
              "      <td>05/11/2020</td>\n",
              "      <td>1.941</td>\n",
              "    </tr>\n",
              "    <tr>\n",
              "      <th>1</th>\n",
              "      <td>05/4/2020</td>\n",
              "      <td>1.883</td>\n",
              "    </tr>\n",
              "    <tr>\n",
              "      <th>2</th>\n",
              "      <td>04/27/2020</td>\n",
              "      <td>1.870</td>\n",
              "    </tr>\n",
              "    <tr>\n",
              "      <th>3</th>\n",
              "      <td>04/20/2020</td>\n",
              "      <td>1.910</td>\n",
              "    </tr>\n",
              "    <tr>\n",
              "      <th>4</th>\n",
              "      <td>04/13/2020</td>\n",
              "      <td>1.951</td>\n",
              "    </tr>\n",
              "    <tr>\n",
              "      <th>...</th>\n",
              "      <td>...</td>\n",
              "      <td>...</td>\n",
              "    </tr>\n",
              "    <tr>\n",
              "      <th>1410</th>\n",
              "      <td>05/3/1993</td>\n",
              "      <td>1.086</td>\n",
              "    </tr>\n",
              "    <tr>\n",
              "      <th>1411</th>\n",
              "      <td>04/26/1993</td>\n",
              "      <td>1.086</td>\n",
              "    </tr>\n",
              "    <tr>\n",
              "      <th>1412</th>\n",
              "      <td>04/19/1993</td>\n",
              "      <td>1.079</td>\n",
              "    </tr>\n",
              "    <tr>\n",
              "      <th>1413</th>\n",
              "      <td>04/12/1993</td>\n",
              "      <td>1.079</td>\n",
              "    </tr>\n",
              "    <tr>\n",
              "      <th>1414</th>\n",
              "      <td>04/5/1993</td>\n",
              "      <td>1.068</td>\n",
              "    </tr>\n",
              "  </tbody>\n",
              "</table>\n",
              "<p>1415 rows × 2 columns</p>\n",
              "</div>"
            ],
            "text/plain": [
              "            Date  Price\n",
              "0     05/11/2020  1.941\n",
              "1      05/4/2020  1.883\n",
              "2     04/27/2020  1.870\n",
              "3     04/20/2020  1.910\n",
              "4     04/13/2020  1.951\n",
              "...          ...    ...\n",
              "1410   05/3/1993  1.086\n",
              "1411  04/26/1993  1.086\n",
              "1412  04/19/1993  1.079\n",
              "1413  04/12/1993  1.079\n",
              "1414   04/5/1993  1.068\n",
              "\n",
              "[1415 rows x 2 columns]"
            ]
          },
          "metadata": {
            "tags": []
          },
          "execution_count": 5
        }
      ]
    },
    {
      "cell_type": "code",
      "metadata": {
        "id": "4Hb3Czlqx1QT",
        "colab_type": "code",
        "outputId": "dc1b787e-ea58-4c98-94cc-4ce4ac20aa64",
        "colab": {
          "base_uri": "https://localhost:8080/",
          "height": 297
        }
      },
      "source": [
        "df.describe()"
      ],
      "execution_count": 0,
      "outputs": [
        {
          "output_type": "execute_result",
          "data": {
            "text/html": [
              "<div>\n",
              "<style scoped>\n",
              "    .dataframe tbody tr th:only-of-type {\n",
              "        vertical-align: middle;\n",
              "    }\n",
              "\n",
              "    .dataframe tbody tr th {\n",
              "        vertical-align: top;\n",
              "    }\n",
              "\n",
              "    .dataframe thead th {\n",
              "        text-align: right;\n",
              "    }\n",
              "</style>\n",
              "<table border=\"1\" class=\"dataframe\">\n",
              "  <thead>\n",
              "    <tr style=\"text-align: right;\">\n",
              "      <th></th>\n",
              "      <th>Price</th>\n",
              "    </tr>\n",
              "  </thead>\n",
              "  <tbody>\n",
              "    <tr>\n",
              "      <th>count</th>\n",
              "      <td>1415.000000</td>\n",
              "    </tr>\n",
              "    <tr>\n",
              "      <th>mean</th>\n",
              "      <td>2.208776</td>\n",
              "    </tr>\n",
              "    <tr>\n",
              "      <th>std</th>\n",
              "      <td>0.893321</td>\n",
              "    </tr>\n",
              "    <tr>\n",
              "      <th>min</th>\n",
              "      <td>0.949000</td>\n",
              "    </tr>\n",
              "    <tr>\n",
              "      <th>25%</th>\n",
              "      <td>1.294000</td>\n",
              "    </tr>\n",
              "    <tr>\n",
              "      <th>50%</th>\n",
              "      <td>2.264000</td>\n",
              "    </tr>\n",
              "    <tr>\n",
              "      <th>75%</th>\n",
              "      <td>2.875000</td>\n",
              "    </tr>\n",
              "    <tr>\n",
              "      <th>max</th>\n",
              "      <td>4.165000</td>\n",
              "    </tr>\n",
              "  </tbody>\n",
              "</table>\n",
              "</div>"
            ],
            "text/plain": [
              "             Price\n",
              "count  1415.000000\n",
              "mean      2.208776\n",
              "std       0.893321\n",
              "min       0.949000\n",
              "25%       1.294000\n",
              "50%       2.264000\n",
              "75%       2.875000\n",
              "max       4.165000"
            ]
          },
          "metadata": {
            "tags": []
          },
          "execution_count": 6
        }
      ]
    },
    {
      "cell_type": "code",
      "metadata": {
        "id": "KKdmH1OBDD1o",
        "colab_type": "code",
        "outputId": "1cc30d62-4101-4d3f-fd2c-4e23b4fbdebc",
        "colab": {
          "base_uri": "https://localhost:8080/",
          "height": 68
        }
      },
      "source": [
        "df.dtypes"
      ],
      "execution_count": 0,
      "outputs": [
        {
          "output_type": "execute_result",
          "data": {
            "text/plain": [
              "Date      object\n",
              "Price    float64\n",
              "dtype: object"
            ]
          },
          "metadata": {
            "tags": []
          },
          "execution_count": 7
        }
      ]
    },
    {
      "cell_type": "code",
      "metadata": {
        "id": "6ac5l69OZNH7",
        "colab_type": "code",
        "outputId": "cf28027c-9431-4406-f3ae-ca9cc55d2d98",
        "colab": {
          "base_uri": "https://localhost:8080/",
          "height": 68
        }
      },
      "source": [
        "df.isnull().sum()"
      ],
      "execution_count": 0,
      "outputs": [
        {
          "output_type": "execute_result",
          "data": {
            "text/plain": [
              "Date     0\n",
              "Price    0\n",
              "dtype: int64"
            ]
          },
          "metadata": {
            "tags": []
          },
          "execution_count": 8
        }
      ]
    },
    {
      "cell_type": "code",
      "metadata": {
        "id": "XKBf26aUEw7I",
        "colab_type": "code",
        "colab": {}
      },
      "source": [
        "df['Date'] = pd.to_datetime(df['Date'])"
      ],
      "execution_count": 0,
      "outputs": []
    },
    {
      "cell_type": "markdown",
      "metadata": {
        "id": "gMYQMgp2c9qo",
        "colab_type": "text"
      },
      "source": [
        "### Setting the index as time"
      ]
    },
    {
      "cell_type": "code",
      "metadata": {
        "id": "-Xn_AuYaeK3h",
        "colab_type": "code",
        "outputId": "50a21f43-a467-4606-e97e-c2bb9e3dd87c",
        "colab": {
          "base_uri": "https://localhost:8080/",
          "height": 235
        }
      },
      "source": [
        "df.set_index(\"Date\", inplace=True)\n",
        "df.head()"
      ],
      "execution_count": 0,
      "outputs": [
        {
          "output_type": "execute_result",
          "data": {
            "text/html": [
              "<div>\n",
              "<style scoped>\n",
              "    .dataframe tbody tr th:only-of-type {\n",
              "        vertical-align: middle;\n",
              "    }\n",
              "\n",
              "    .dataframe tbody tr th {\n",
              "        vertical-align: top;\n",
              "    }\n",
              "\n",
              "    .dataframe thead th {\n",
              "        text-align: right;\n",
              "    }\n",
              "</style>\n",
              "<table border=\"1\" class=\"dataframe\">\n",
              "  <thead>\n",
              "    <tr style=\"text-align: right;\">\n",
              "      <th></th>\n",
              "      <th>Price</th>\n",
              "    </tr>\n",
              "    <tr>\n",
              "      <th>Date</th>\n",
              "      <th></th>\n",
              "    </tr>\n",
              "  </thead>\n",
              "  <tbody>\n",
              "    <tr>\n",
              "      <th>2020-05-11</th>\n",
              "      <td>1.941</td>\n",
              "    </tr>\n",
              "    <tr>\n",
              "      <th>2020-05-04</th>\n",
              "      <td>1.883</td>\n",
              "    </tr>\n",
              "    <tr>\n",
              "      <th>2020-04-27</th>\n",
              "      <td>1.870</td>\n",
              "    </tr>\n",
              "    <tr>\n",
              "      <th>2020-04-20</th>\n",
              "      <td>1.910</td>\n",
              "    </tr>\n",
              "    <tr>\n",
              "      <th>2020-04-13</th>\n",
              "      <td>1.951</td>\n",
              "    </tr>\n",
              "  </tbody>\n",
              "</table>\n",
              "</div>"
            ],
            "text/plain": [
              "            Price\n",
              "Date             \n",
              "2020-05-11  1.941\n",
              "2020-05-04  1.883\n",
              "2020-04-27  1.870\n",
              "2020-04-20  1.910\n",
              "2020-04-13  1.951"
            ]
          },
          "metadata": {
            "tags": []
          },
          "execution_count": 12
        }
      ]
    },
    {
      "cell_type": "code",
      "metadata": {
        "id": "BNy9AXcje3TS",
        "colab_type": "code",
        "colab": {}
      },
      "source": [
        "# Setting the desired frequency\n",
        "# df_w = df.asfreq('w')\n",
        "# df_w"
      ],
      "execution_count": 0,
      "outputs": []
    },
    {
      "cell_type": "code",
      "metadata": {
        "id": "hvW5x3KPY_VW",
        "colab_type": "code",
        "colab": {}
      },
      "source": [
        "# Flip it so the index goes up with the date\n",
        "df = df.iloc[::-1]"
      ],
      "execution_count": 0,
      "outputs": []
    },
    {
      "cell_type": "markdown",
      "metadata": {
        "id": "g9u2BMtPZp75",
        "colab_type": "text"
      },
      "source": [
        "##Plotting"
      ]
    },
    {
      "cell_type": "code",
      "metadata": {
        "id": "cvcSNR-rZrvg",
        "colab_type": "code",
        "outputId": "69043de6-895f-4894-8636-74fdefe345d9",
        "colab": {
          "base_uri": "https://localhost:8080/",
          "height": 367
        }
      },
      "source": [
        "# Raw price vs time\n",
        "df.Price.plot(figsize=(20,5), title='Price of Gas')"
      ],
      "execution_count": 0,
      "outputs": [
        {
          "output_type": "execute_result",
          "data": {
            "text/plain": [
              "<matplotlib.axes._subplots.AxesSubplot at 0x7f6a0af17550>"
            ]
          },
          "metadata": {
            "tags": []
          },
          "execution_count": 136
        },
        {
          "output_type": "display_data",
          "data": {
            "image/png": "[encoded data removed]",
            "text/plain": [
              "<Figure size 1440x360 with 1 Axes>"
            ]
          },
          "metadata": {
            "tags": [],
            "needs_background": "light"
          }
        }
      ]
    },
    {
      "cell_type": "code",
      "metadata": {
        "id": "PsZ8prctaiFo",
        "colab_type": "code",
        "outputId": "b5f1b1ce-7852-4b5f-844f-c1a01c31b3e3",
        "colab": {
          "base_uri": "https://localhost:8080/",
          "height": 295
        }
      },
      "source": [
        "# Quantile-Quantile plot how the data fits a normal distribution\n",
        "scipy.stats.probplot(df.Price, plot=pylab)\n",
        "pylab.show()"
      ],
      "execution_count": 0,
      "outputs": [
        {
          "output_type": "display_data",
          "data": {
            "image/png": "[encoded data removed]",
            "text/plain": [
              "<Figure size 432x288 with 1 Axes>"
            ]
          },
          "metadata": {
            "tags": [],
            "needs_background": "light"
          }
        }
      ]
    },
    {
      "cell_type": "markdown",
      "metadata": {
        "id": "HYk_rfoRbUK5",
        "colab_type": "text"
      },
      "source": [
        "The red line is what the data would be if it followed a normal dist.\n",
        "The Theoretical quantiles are how many std devs away from the mean.\n",
        "\n",
        "This shows that we cannot treat it as a normal dataset, it violates Gauss-Markov assumptions"
      ]
    },
    {
      "cell_type": "markdown",
      "metadata": {
        "id": "njv6riTVdMxG",
        "colab_type": "text"
      },
      "source": [
        "### Train Val split"
      ]
    },
    {
      "cell_type": "code",
      "metadata": {
        "id": "o3emWlFmZf2c",
        "colab_type": "code",
        "outputId": "74f77cd1-7e5e-4ef3-c487-9338feaa89c3",
        "colab": {
          "base_uri": "https://localhost:8080/",
          "height": 450
        }
      },
      "source": [
        "df.loc[:'2014']"
      ],
      "execution_count": 0,
      "outputs": [
        {
          "output_type": "execute_result",
          "data": {
            "text/html": [
              "<div>\n",
              "<style scoped>\n",
              "    .dataframe tbody tr th:only-of-type {\n",
              "        vertical-align: middle;\n",
              "    }\n",
              "\n",
              "    .dataframe tbody tr th {\n",
              "        vertical-align: top;\n",
              "    }\n",
              "\n",
              "    .dataframe thead th {\n",
              "        text-align: right;\n",
              "    }\n",
              "</style>\n",
              "<table border=\"1\" class=\"dataframe\">\n",
              "  <thead>\n",
              "    <tr style=\"text-align: right;\">\n",
              "      <th></th>\n",
              "      <th>Price</th>\n",
              "    </tr>\n",
              "    <tr>\n",
              "      <th>Date</th>\n",
              "      <th></th>\n",
              "    </tr>\n",
              "  </thead>\n",
              "  <tbody>\n",
              "    <tr>\n",
              "      <th>1993-04-05</th>\n",
              "      <td>1.068</td>\n",
              "    </tr>\n",
              "    <tr>\n",
              "      <th>1993-04-12</th>\n",
              "      <td>1.079</td>\n",
              "    </tr>\n",
              "    <tr>\n",
              "      <th>1993-04-19</th>\n",
              "      <td>1.079</td>\n",
              "    </tr>\n",
              "    <tr>\n",
              "      <th>1993-04-26</th>\n",
              "      <td>1.086</td>\n",
              "    </tr>\n",
              "    <tr>\n",
              "      <th>1993-05-03</th>\n",
              "      <td>1.086</td>\n",
              "    </tr>\n",
              "    <tr>\n",
              "      <th>...</th>\n",
              "      <td>...</td>\n",
              "    </tr>\n",
              "    <tr>\n",
              "      <th>2014-12-01</th>\n",
              "      <td>2.864</td>\n",
              "    </tr>\n",
              "    <tr>\n",
              "      <th>2014-12-08</th>\n",
              "      <td>2.767</td>\n",
              "    </tr>\n",
              "    <tr>\n",
              "      <th>2014-12-15</th>\n",
              "      <td>2.643</td>\n",
              "    </tr>\n",
              "    <tr>\n",
              "      <th>2014-12-22</th>\n",
              "      <td>2.496</td>\n",
              "    </tr>\n",
              "    <tr>\n",
              "      <th>2014-12-29</th>\n",
              "      <td>2.392</td>\n",
              "    </tr>\n",
              "  </tbody>\n",
              "</table>\n",
              "<p>1135 rows × 1 columns</p>\n",
              "</div>"
            ],
            "text/plain": [
              "            Price\n",
              "Date             \n",
              "1993-04-05  1.068\n",
              "1993-04-12  1.079\n",
              "1993-04-19  1.079\n",
              "1993-04-26  1.086\n",
              "1993-05-03  1.086\n",
              "...           ...\n",
              "2014-12-01  2.864\n",
              "2014-12-08  2.767\n",
              "2014-12-15  2.643\n",
              "2014-12-22  2.496\n",
              "2014-12-29  2.392\n",
              "\n",
              "[1135 rows x 1 columns]"
            ]
          },
          "metadata": {
            "tags": []
          },
          "execution_count": 15
        }
      ]
    },
    {
      "cell_type": "code",
      "metadata": {
        "id": "_In_WXHU0JjQ",
        "colab_type": "code",
        "outputId": "6b983662-8470-4353-d2ff-596da087a185",
        "colab": {
          "base_uri": "https://localhost:8080/",
          "height": 34
        }
      },
      "source": [
        "# Make the last 5 years validation data\n",
        "val = df.loc['2015':]\n",
        "train = df.loc[:'2014']\n",
        "\n",
        "val.shape, train.shape"
      ],
      "execution_count": 0,
      "outputs": [
        {
          "output_type": "execute_result",
          "data": {
            "text/plain": [
              "((280, 1), (1135, 1))"
            ]
          },
          "metadata": {
            "tags": []
          },
          "execution_count": 16
        }
      ]
    },
    {
      "cell_type": "code",
      "metadata": {
        "id": "vvZi9r75CQLf",
        "colab_type": "code",
        "colab": {}
      },
      "source": [
        "# target = 'Price'\n",
        "# X_feature = ['Date']\n",
        "\n",
        "# X_train = train[X_feature]\n",
        "# y_train = train[target]\n",
        "\n",
        "# X_val = val[X_feature]\n",
        "# y_val = val[target]\n",
        "\n"
      ],
      "execution_count": 0,
      "outputs": []
    },
    {
      "cell_type": "code",
      "metadata": {
        "id": "fGSyxQjIBVPq",
        "colab_type": "code",
        "colab": {}
      },
      "source": [
        "# Evaluator by Mikio Harman\n",
        "# R^2 may not be appropriate for non-linear models\n",
        "def scores(y_true, y_pred):\n",
        "    \n",
        "    \"\"\"\n",
        "    -This functions returns the MAE, MSE, RMSE, R2 scores\n",
        "    -This function also takes the model name\n",
        "    - Written by Mikio Harman\n",
        "        \n",
        "    \"\"\"\n",
        "    \n",
        "    err_mae = mean_absolute_error(y_true, y_pred)\n",
        "    err_mse = mean_squared_error(y_true, y_pred)\n",
        "    err_rmse = np.sqrt(err_mse)\n",
        "    err_r2 = r2_score(y_true, y_pred)\n",
        "    \n",
        "    print(f\"MAE: {err_mae}\\n\")\n",
        "    print(f\"MSE: {err_mse}\\n\")\n",
        "    print(f\"RMSE: {err_rmse}\\n\")\n",
        "    print(f\"R^2: {err_r2}\\n\")\n",
        "    \n",
        "    return"
      ],
      "execution_count": 0,
      "outputs": []
    },
    {
      "cell_type": "markdown",
      "metadata": {
        "id": "Ao0Dg8ZlW1WK",
        "colab_type": "text"
      },
      "source": [
        "# Models\n",
        "Note that these models will predict gas prices over time, but in use we will multiply those prices by miles driven, and that will only need an average over the time span."
      ]
    },
    {
      "cell_type": "markdown",
      "metadata": {
        "id": "zN5xZlptBt9v",
        "colab_type": "text"
      },
      "source": [
        "## Baseline\n",
        "\n",
        "Mean guess for all prices"
      ]
    },
    {
      "cell_type": "code",
      "metadata": {
        "id": "RmMEyq6mHlv6",
        "colab_type": "code",
        "outputId": "939fda80-38c4-46f2-97c1-b3511bdbabea",
        "colab": {
          "base_uri": "https://localhost:8080/",
          "height": 187
        }
      },
      "source": [
        "mean_gas_price = np.mean(train['Price'])\n",
        "print(f\"The mean gas from 04/05/1993 - 12/31/2014 is {mean_gas_price}\\n\")\n",
        "\n",
        "y_true_base = val['Price']\n",
        "y_pred_base = [mean_gas_price for x in range(len(val))]\n",
        "\n",
        "scores(y_true_base, y_pred_base)"
      ],
      "execution_count": 0,
      "outputs": [
        {
          "output_type": "stream",
          "text": [
            "The mean gas from 04/05/1993 - 12/31/2014 is 2.125984140969161\n",
            "\n",
            "MAE: 0.4399852485840167\n",
            "\n",
            "MSE: 0.24920924183741353\n",
            "\n",
            "RMSE: 0.4992086155480628\n",
            "\n",
            "R^2: -2.3606377339614575\n",
            "\n"
          ],
          "name": "stdout"
        }
      ]
    },
    {
      "cell_type": "markdown",
      "metadata": {
        "id": "stJLtYFGWCSH",
        "colab_type": "text"
      },
      "source": [
        "## Linear Regression"
      ]
    },
    {
      "cell_type": "code",
      "metadata": {
        "id": "nD9XpR3A1jd2",
        "colab_type": "code",
        "colab": {}
      },
      "source": [
        "# I indexed the date in preparation for a time series analysis\n",
        "# but here for an improper linear regression we just need an X that is a counter\n",
        "ln_train = pd.DataFrame(range(0, 1135),columns=['date'])\n",
        "ln_val = pd.DataFrame(range(1135, 1415),columns=['date'])"
      ],
      "execution_count": 0,
      "outputs": []
    },
    {
      "cell_type": "code",
      "metadata": {
        "id": "budGqxOCWEcN",
        "colab_type": "code",
        "outputId": "d6edf109-5606-44e0-98ef-ae88da92a01f",
        "colab": {
          "base_uri": "https://localhost:8080/",
          "height": 153
        }
      },
      "source": [
        "# values of interest is the number of days from the start\n",
        "lr = LinearRegression()\n",
        "lr.fit(ln_train, train['Price'])\n",
        "y_pred_lr = lr.predict(ln_val)\n",
        "\n",
        "scores(val['Price'], y_pred_lr)"
      ],
      "execution_count": 0,
      "outputs": [
        {
          "output_type": "stream",
          "text": [
            "MAE: 1.4955745565331942\n",
            "\n",
            "MSE: 2.3205711910114033\n",
            "\n",
            "RMSE: 1.5233421122687456\n",
            "\n",
            "R^2: -30.29337841308743\n",
            "\n"
          ],
          "name": "stdout"
        }
      ]
    },
    {
      "cell_type": "markdown",
      "metadata": {
        "id": "X5zCbqy-iFYm",
        "colab_type": "text"
      },
      "source": [
        "as expected, a line would go way off on a time series like this"
      ]
    },
    {
      "cell_type": "code",
      "metadata": {
        "id": "ag2l9NMrjqr2",
        "colab_type": "code",
        "colab": {}
      },
      "source": [
        "ln_plot_df = pd.DataFrame(y_pred_lr, val.index)"
      ],
      "execution_count": 0,
      "outputs": []
    },
    {
      "cell_type": "code",
      "metadata": {
        "id": "YLoqIZdGiEbf",
        "colab_type": "code",
        "outputId": "3ee97c7b-939f-470f-f3b7-d9cc91cbe774",
        "colab": {
          "base_uri": "https://localhost:8080/",
          "height": 282
        }
      },
      "source": [
        "plt.plot(ln_plot_df)\n",
        "plt.plot(df['Price'])"
      ],
      "execution_count": 0,
      "outputs": [
        {
          "output_type": "execute_result",
          "data": {
            "text/plain": [
              "[<matplotlib.lines.Line2D at 0x7f6a0b23efd0>]"
            ]
          },
          "metadata": {
            "tags": []
          },
          "execution_count": 116
        },
        {
          "output_type": "display_data",
          "data": {
            "image/png": "[encoded data removed]",
            "text/plain": [
              "<Figure size 432x288 with 1 Axes>"
            ]
          },
          "metadata": {
            "tags": [],
            "needs_background": "light"
          }
        }
      ]
    },
    {
      "cell_type": "markdown",
      "metadata": {
        "id": "U6WAGO21KwwJ",
        "colab_type": "text"
      },
      "source": [
        "## [ARIMA](https://machinelearningmastery.com/arima-for-time-series-forecasting-with-python/)\n",
        "AR: Autoregression. A model that uses the dependent relationship between an observation and some number of lagged observations. **(p)**\n",
        "\n",
        "I: Integrated. The use of differencing of raw observations (e.g. subtracting an observation from an observation at the previous time step) in order to make the time series stationary.**(d)**\n",
        "\n",
        "MA: Moving Average. A model that uses the dependency between an observation and a residual error from a moving average model applied to lagged observations. **(q)**\n",
        "\n",
        "*The parameters of the ARIMA model are defined as follows:*\n",
        "\n",
        "p: The number of lag observations included in the model, also called the lag order.\n",
        "\n",
        "d: The number of times that the raw observations are differenced, also called the degree of differencing.\n",
        "\n",
        "q: The size of the moving average window, also called the order of moving average."
      ]
    },
    {
      "cell_type": "code",
      "metadata": {
        "id": "DSTU3rTBKqli",
        "colab_type": "code",
        "outputId": "7ea47484-32e4-4e79-afba-b807909327e6",
        "colab": {
          "base_uri": "https://localhost:8080/",
          "height": 283
        }
      },
      "source": [
        "# Auto correlation plot\n",
        "# Used to determine p, AR\n",
        "autocorrelation_plot(df)\n",
        "plt.show()\n",
        "\n",
        "# shows significance for the first 400 lags. That sounds sus"
      ],
      "execution_count": 0,
      "outputs": [
        {
          "output_type": "display_data",
          "data": {
            "image/png": "[encoded data removed]",
            "text/plain": [
              "<Figure size 432x288 with 1 Axes>"
            ]
          },
          "metadata": {
            "tags": [],
            "needs_background": "light"
          }
        }
      ]
    },
    {
      "cell_type": "code",
      "metadata": {
        "id": "N1hdoHEFxaJ8",
        "colab_type": "code",
        "outputId": "849db5fa-ad05-4a70-cfc8-21a38ebcb8f0",
        "colab": {
          "base_uri": "https://localhost:8080/",
          "height": 281
        }
      },
      "source": [
        "# partial Autocorrelation plot. \n",
        "# Use this to determine q, MA\n",
        "plot_pacf(df)\n",
        "plt.show()"
      ],
      "execution_count": 0,
      "outputs": [
        {
          "output_type": "display_data",
          "data": {
            "image/png": "[encoded data removed]",
            "text/plain": [
              "<Figure size 432x288 with 1 Axes>"
            ]
          },
          "metadata": {
            "tags": [],
            "needs_background": "light"
          }
        }
      ]
    },
    {
      "cell_type": "markdown",
      "metadata": {
        "id": "TAfeThAcMt8a",
        "colab_type": "text"
      },
      "source": [
        "An ARIMA model can be created using the statsmodels library as follows:\n",
        "\n",
        "Define the model by calling ARIMA() and passing in the p, d, and q parameters.\n",
        "\n",
        "The model is prepared on the training data by calling the fit() function.\n",
        "\n",
        "Predictions can be made by calling the predict() function and specifying the index of the time or times to be predicted."
      ]
    },
    {
      "cell_type": "code",
      "metadata": {
        "id": "UUdFaeUFNMWi",
        "colab_type": "code",
        "outputId": "4be73405-2527-44da-a568-99dfcfe3362b",
        "colab": {
          "base_uri": "https://localhost:8080/",
          "height": 425
        }
      },
      "source": [
        "# Though the plots above suggested some p and q terms, I experimented with various\n",
        "arima = ARIMA(train, order=(1,1,0))\n",
        "model_fit = arima.fit()\n",
        "print(model_fit.summary())"
      ],
      "execution_count": 0,
      "outputs": [
        {
          "output_type": "stream",
          "text": [
            "                             ARIMA Model Results                              \n",
            "==============================================================================\n",
            "Dep. Variable:                D.Price   No. Observations:                 1134\n",
            "Model:                 ARIMA(1, 1, 0)   Log Likelihood                2054.671\n",
            "Method:                       css-mle   S.D. of innovations              0.040\n",
            "Date:                Fri, 15 May 2020   AIC                          -4103.342\n",
            "Time:                        17:17:22   BIC                          -4088.242\n",
            "Sample:                    04-12-1993   HQIC                         -4097.638\n",
            "                         - 12-29-2014                                         \n",
            "=================================================================================\n",
            "                    coef    std err          z      P>|z|      [0.025      0.975]\n",
            "---------------------------------------------------------------------------------\n",
            "const             0.0011      0.003      0.393      0.694      -0.004       0.006\n",
            "ar.L1.D.Price     0.5647      0.025     23.000      0.000       0.517       0.613\n",
            "                                    Roots                                    \n",
            "=============================================================================\n",
            "                  Real          Imaginary           Modulus         Frequency\n",
            "-----------------------------------------------------------------------------\n",
            "AR.1            1.7708           +0.0000j            1.7708            0.0000\n",
            "-----------------------------------------------------------------------------\n"
          ],
          "name": "stdout"
        },
        {
          "output_type": "stream",
          "text": [
            "/usr/local/lib/python3.6/dist-packages/statsmodels/tsa/base/tsa_model.py:165: ValueWarning: No frequency information was provided, so inferred frequency W-MON will be used.\n",
            "  % freq, ValueWarning)\n",
            "/usr/local/lib/python3.6/dist-packages/statsmodels/tsa/base/tsa_model.py:165: ValueWarning: No frequency information was provided, so inferred frequency W-MON will be used.\n",
            "  % freq, ValueWarning)\n"
          ],
          "name": "stderr"
        }
      ]
    },
    {
      "cell_type": "code",
      "metadata": {
        "id": "pHKHmsT4TiXE",
        "colab_type": "code",
        "outputId": "c22f002a-ac85-4153-a581-90ab7dcf5143",
        "colab": {
          "base_uri": "https://localhost:8080/",
          "height": 712
        }
      },
      "source": [
        "# plot residual errors\n",
        "residuals = pd.DataFrame(model_fit.resid)\n",
        "residuals.plot(title='Residual Error Line Plot')\n",
        "plt.show()\n",
        "residuals.plot(kind='kde', title='Residual error Density Plot')\n",
        "plt.show()\n",
        "print(residuals.describe())"
      ],
      "execution_count": 0,
      "outputs": [
        {
          "output_type": "display_data",
          "data": {
            "image/png": "[encoded data removed]",
            "text/plain": [
              "<Figure size 432x288 with 1 Axes>"
            ]
          },
          "metadata": {
            "tags": [],
            "needs_background": "light"
          }
        },
        {
          "output_type": "display_data",
          "data": {
            "image/png": "[encoded data removed]",
            "text/plain": [
              "<Figure size 432x288 with 1 Axes>"
            ]
          },
          "metadata": {
            "tags": [],
            "needs_background": "light"
          }
        },
        {
          "output_type": "stream",
          "text": [
            "                 0\n",
            "count  1134.000000\n",
            "mean     -0.000005\n",
            "std       0.039536\n",
            "min      -0.377492\n",
            "25%      -0.014537\n",
            "50%      -0.001449\n",
            "75%       0.012577\n",
            "max       0.464104\n"
          ],
          "name": "stdout"
        }
      ]
    },
    {
      "cell_type": "markdown",
      "metadata": {
        "id": "2rxW8efST38z",
        "colab_type": "text"
      },
      "source": [
        "The residuals aren't exactly uniform as there is higher variance in the more recent years, but the distribution is very concentrated around 0"
      ]
    },
    {
      "cell_type": "markdown",
      "metadata": {
        "id": "9xN_1_j1Ux6z",
        "colab_type": "text"
      },
      "source": [
        "### Forecasts with ARIMA"
      ]
    },
    {
      "cell_type": "code",
      "metadata": {
        "id": "iIZqz2MXUw5c",
        "colab_type": "code",
        "outputId": "96498c6e-1b13-489e-cf8a-d0fff8a2991e",
        "colab": {
          "base_uri": "https://localhost:8080/",
          "height": 119
        }
      },
      "source": [
        "# I think the  .predict method tells the difference between sequential prices\n",
        "model_fit.predict(start=1, end=5)"
      ],
      "execution_count": 0,
      "outputs": [
        {
          "output_type": "execute_result",
          "data": {
            "text/plain": [
              "1993-04-12    0.001059\n",
              "1993-04-19    0.006673\n",
              "1993-04-26    0.000461\n",
              "1993-05-03    0.004414\n",
              "1993-05-10    0.000461\n",
              "Freq: W-MON, dtype: float64"
            ]
          },
          "metadata": {
            "tags": []
          },
          "execution_count": 119
        }
      ]
    },
    {
      "cell_type": "code",
      "metadata": {
        "id": "Xk7yguXAa391",
        "colab_type": "code",
        "outputId": "af5cc644-888a-4b4b-ef41-c8012bb7f1b1",
        "colab": {
          "base_uri": "https://localhost:8080/",
          "height": 187
        }
      },
      "source": [
        "# This is more what we are looking for\n",
        "# Forecast by len(val)\n",
        "y_pred_arima = model_fit.forecast(steps=len(val))[0]\n",
        "print('ARIMA scores:'), scores(y_pred=y_pred_arima, y_true=val['Price'])"
      ],
      "execution_count": 0,
      "outputs": [
        {
          "output_type": "stream",
          "text": [
            "ARIMA scores:\n",
            "MAE: 0.2316014269435614\n",
            "\n",
            "MSE: 0.08617209359618845\n",
            "\n",
            "RMSE: 0.29355083647673097\n",
            "\n",
            "R^2: -0.16204835430117281\n",
            "\n"
          ],
          "name": "stdout"
        },
        {
          "output_type": "execute_result",
          "data": {
            "text/plain": [
              "(None, None)"
            ]
          },
          "metadata": {
            "tags": []
          },
          "execution_count": 134
        }
      ]
    },
    {
      "cell_type": "code",
      "metadata": {
        "id": "m8X0siuBMYSF",
        "colab_type": "code",
        "outputId": "7bb1b01e-91c2-41e5-e5d4-53e427075238",
        "colab": {
          "base_uri": "https://localhost:8080/",
          "height": 187
        }
      },
      "source": [
        "# Compare to baseline\n",
        "print('Baseline scores:'), scores(y_true_base, y_pred_base)"
      ],
      "execution_count": 0,
      "outputs": [
        {
          "output_type": "stream",
          "text": [
            "Baseline score:\n",
            "MAE: 0.4399852485840167\n",
            "\n",
            "MSE: 0.24920924183741353\n",
            "\n",
            "RMSE: 0.4992086155480628\n",
            "\n",
            "R^2: -2.3606377339614575\n",
            "\n"
          ],
          "name": "stdout"
        },
        {
          "output_type": "execute_result",
          "data": {
            "text/plain": [
              "(None, None)"
            ]
          },
          "metadata": {
            "tags": []
          },
          "execution_count": 124
        }
      ]
    },
    {
      "cell_type": "code",
      "metadata": {
        "id": "LE2Z0sOptOWB",
        "colab_type": "code",
        "colab": {}
      },
      "source": [
        "df_pred_arima = pd.DataFrame(y_pred_arima, val.index)"
      ],
      "execution_count": 0,
      "outputs": []
    },
    {
      "cell_type": "code",
      "metadata": {
        "id": "sACVyZG0tMdz",
        "colab_type": "code",
        "outputId": "2ef6ffda-bf6f-408f-eeef-cce16bda6e84",
        "colab": {
          "base_uri": "https://localhost:8080/",
          "height": 282
        }
      },
      "source": [
        "plt.plot(df_pred_arima)\n",
        "plt.plot(val['Price'])"
      ],
      "execution_count": 0,
      "outputs": [
        {
          "output_type": "execute_result",
          "data": {
            "text/plain": [
              "[<matplotlib.lines.Line2D at 0x7f6a0b44bdd8>]"
            ]
          },
          "metadata": {
            "tags": []
          },
          "execution_count": 122
        },
        {
          "output_type": "display_data",
          "data": {
            "image/png": "[encoded data removed]",
            "text/plain": [
              "<Figure size 432x288 with 1 Axes>"
            ]
          },
          "metadata": {
            "tags": [],
            "needs_background": "light"
          }
        }
      ]
    },
    {
      "cell_type": "markdown",
      "metadata": {
        "id": "8zrr0LMfMTBd",
        "colab_type": "text"
      },
      "source": [
        "Successfully beat the baseline by over 10%"
      ]
    }
  ]
}