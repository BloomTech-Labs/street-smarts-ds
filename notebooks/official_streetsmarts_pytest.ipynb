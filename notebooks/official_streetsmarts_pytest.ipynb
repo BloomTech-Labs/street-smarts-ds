{
  "nbformat": 4,
  "nbformat_minor": 0,
  "metadata": {
    "colab": {
      "name": "official_streetsmarts_pytest.ipynb",
      "provenance": [],
      "collapsed_sections": []
    },
    "kernelspec": {
      "name": "python3",
      "display_name": "Python 3"
    }
  },
  "cells": [
    {
      "cell_type": "markdown",
      "metadata": {
        "id": "Tf1R0Pa9VoGn",
        "colab_type": "text"
      },
      "source": [
        "# Streetsmarts API Pytests\n",
        "\n",
        "- This colab contains the ability to test the production API from a colab notebook\n",
        "\n",
        "- By performing Pytests from a colab notebook this makes it easier for any team members to add any tests they see fit and further helps avoid merge conflicts.\n",
        "\n",
        "- It also adds the ability to test the endpoint while not having a copy of repo on your local machine. \n",
        "\n",
        "- This is a living document, feel free to add any tests you feel like."
      ]
    },
    {
      "cell_type": "code",
      "metadata": {
        "id": "elcoUKV693fy",
        "colab_type": "code",
        "colab": {}
      },
      "source": [
        "%%capture\n",
        "\n",
        "# Install the standard pytest and a package that creates a nicer output\n",
        "!pip -q install pytest-sugar pytest"
      ],
      "execution_count": 0,
      "outputs": []
    },
    {
      "cell_type": "markdown",
      "metadata": {
        "id": "wfOnyEM-V_LU",
        "colab_type": "text"
      },
      "source": [
        "# Pytests\n",
        "\n",
        "This cell will write the entire code cell into a .py file located in your colab working directory. All pytest functions must adhere to the pytest naming conventions found [here](https://docs.pytest.org/en/reorganize-docs/new-docs/user/naming_conventions.html)\n",
        "\n",
        "\n",
        "Any packages you use in your tests must also be imported in the cell below and no where else if you wish to use it for a pytest\n"
      ]
    },
    {
      "cell_type": "code",
      "metadata": {
        "id": "6kJaA0qD99v8",
        "colab_type": "code",
        "outputId": "23eb8de3-fc6d-4573-fd81-bcb0b443e547",
        "colab": {
          "base_uri": "https://localhost:8080/",
          "height": 34
        }
      },
      "source": [
        "# Write the code cell to a py file when cell is executed\n",
        "%%file test_street.py\n",
        "\n",
        "import requests \n",
        "\n",
        "def test_code():\n",
        "    \"\"\"\n",
        "    Test the predict endpoint status code\n",
        "    \"\"\"\n",
        "    url = \"http://data.streetsmarts.online/predict?make=Ford&model=F150%20Pickup%204WD&year=2005\"\n",
        "    r = requests.post(url)\n",
        "\n",
        "    assert r.status_code == 200\n",
        "\n",
        "def test_length():\n",
        "    \"\"\"\n",
        "    Test the length of the items being recieved\n",
        "    and their values, using the defaults\n",
        "    \"\"\"\n",
        "\n",
        "    url = \"http://data.streetsmarts.online/predict?make=Ford&model=F150%20Pickup%204WD&year=2005\"\n",
        "    r = requests.post(url)\n",
        "    ls = r.json()\n",
        "\n",
        "    assert ls['car_price_prediction'] == 30655.23\n",
        "    assert ls['co2_five_year_kgs'] == 47608.93\n",
        "    assert ls['five_year_cost_to_own'] == 47726.66\n",
        "    assert ls['fuel_cost'] == 16071.43\n",
        "    assert len(ls['list_of_imgs']) == 2\n",
        "    assert ls['maintenance_cost'] == 1000\n",
        "    assert ls['number_of_trees_to_offset'] == 437\n",
        "\n",
        "def test_img():\n",
        "    \"\"\"\n",
        "    Tests that the image link is broken\n",
        "    \"\"\"\n",
        "\n",
        "    url = \"http://data.streetsmarts.online/predict?make=Ford&model=F150%20Pickup%204WD&year=2005\"\n",
        "    r = requests.post(url)\n",
        "    ls = r.json()\n",
        "\n",
        "    # Pull the first link out of the list to test\n",
        "    img = ls['list_of_imgs'][0]\n",
        "    s = requests.get(img)\n",
        "\n",
        "    assert s.status_code == 200"
      ],
      "execution_count": 0,
      "outputs": [
        {
          "output_type": "stream",
          "text": [
            "Overwriting test_street.py\n"
          ],
          "name": "stdout"
        }
      ]
    },
    {
      "cell_type": "code",
      "metadata": {
        "id": "5BiofTKT-thW",
        "colab_type": "code",
        "outputId": "230b4efb-8297-442a-b28c-fc00587f3adb",
        "colab": {
          "base_uri": "https://localhost:8080/",
          "height": 156
        }
      },
      "source": [
        "# Run the pytest\n",
        "!python -m pytest test_street.py"
      ],
      "execution_count": 0,
      "outputs": [
        {
          "output_type": "stream",
          "text": [
            "\u001b[1mTest session starts (platform: linux, Python 3.6.9, pytest 3.6.4, pytest-sugar 0.9.3)\u001b[0m\n",
            "rootdir: /content, inifile:\n",
            "plugins: typeguard-2.7.1, sugar-0.9.3\n",
            "\n",
            " \u001b[36m\u001b[0mtest_street.py\u001b[0m \u001b[32m✓\u001b[0m\u001b[32m✓\u001b[0m\u001b[32m✓\u001b[0m                                              \u001b[32m100% \u001b[0m\u001b[40m\u001b[32m█\u001b[0m\u001b[40m\u001b[32m██\u001b[0m\u001b[40m\u001b[32m█\u001b[0m\u001b[40m\u001b[32m██\u001b[0m\u001b[40m\u001b[32m█\u001b[0m\u001b[40m\u001b[32m███\u001b[0m\n",
            "\n",
            "Results (1.57s):\n",
            "\u001b[32m       3 passed\u001b[0m\n"
          ],
          "name": "stdout"
        }
      ]
    },
    {
      "cell_type": "code",
      "metadata": {
        "id": "Alrb-kohVNtI",
        "colab_type": "code",
        "colab": {}
      },
      "source": [
        ""
      ],
      "execution_count": 0,
      "outputs": []
    }
  ]
}