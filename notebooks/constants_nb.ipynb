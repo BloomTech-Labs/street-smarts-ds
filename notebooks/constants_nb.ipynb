{
 "cells": [
  {
   "cell_type": "code",
   "execution_count": 1,
   "metadata": {},
   "outputs": [],
   "source": [
    "import pandas as pd"
   ]
  },
  {
   "cell_type": "markdown",
   "metadata": {},
   "source": [
    "# Electricity\n",
    "\n",
    "10.309709132271765 (in cents)"
   ]
  },
  {
   "cell_type": "code",
   "execution_count": 3,
   "metadata": {},
   "outputs": [],
   "source": [
    "path = \"../data/us_electricity_sales_revenue.xlsx\"\n",
    "\n",
    "# Only use the residential rows to caluculate kwh cost for the average consumer\n",
    "\n",
    "df_res = pd.read_excel(\n",
    "    path, \n",
    "    header=2, \n",
    "    usecols=[0,1,2,3,4,5,6,7], \n",
    "    skipfooter=1, \n",
    "    na_values=\".\"\n",
    ")"
   ]
  },
  {
   "cell_type": "code",
   "execution_count": 46,
   "metadata": {},
   "outputs": [
    {
     "data": {
      "text/html": [
       "<div>\n",
       "<style scoped>\n",
       "    .dataframe tbody tr th:only-of-type {\n",
       "        vertical-align: middle;\n",
       "    }\n",
       "\n",
       "    .dataframe tbody tr th {\n",
       "        vertical-align: top;\n",
       "    }\n",
       "\n",
       "    .dataframe thead th {\n",
       "        text-align: right;\n",
       "    }\n",
       "</style>\n",
       "<table border=\"1\" class=\"dataframe\">\n",
       "  <thead>\n",
       "    <tr style=\"text-align: right;\">\n",
       "      <th></th>\n",
       "      <th>Year</th>\n",
       "      <th>Month</th>\n",
       "      <th>State</th>\n",
       "      <th>Data Status</th>\n",
       "      <th>Thousand Dollars</th>\n",
       "      <th>Megawatthours</th>\n",
       "      <th>Count</th>\n",
       "      <th>Cents/kWh</th>\n",
       "    </tr>\n",
       "  </thead>\n",
       "  <tbody>\n",
       "    <tr>\n",
       "      <td>0</td>\n",
       "      <td>1990</td>\n",
       "      <td>1</td>\n",
       "      <td>AK</td>\n",
       "      <td>Final</td>\n",
       "      <td>17477.0</td>\n",
       "      <td>181752.0</td>\n",
       "      <td>NaN</td>\n",
       "      <td>9.62</td>\n",
       "    </tr>\n",
       "    <tr>\n",
       "      <td>1</td>\n",
       "      <td>1990</td>\n",
       "      <td>1</td>\n",
       "      <td>AL</td>\n",
       "      <td>Final</td>\n",
       "      <td>123332.0</td>\n",
       "      <td>2070093.0</td>\n",
       "      <td>NaN</td>\n",
       "      <td>5.96</td>\n",
       "    </tr>\n",
       "    <tr>\n",
       "      <td>2</td>\n",
       "      <td>1990</td>\n",
       "      <td>1</td>\n",
       "      <td>AR</td>\n",
       "      <td>Final</td>\n",
       "      <td>72506.0</td>\n",
       "      <td>1026320.0</td>\n",
       "      <td>NaN</td>\n",
       "      <td>7.06</td>\n",
       "    </tr>\n",
       "    <tr>\n",
       "      <td>3</td>\n",
       "      <td>1990</td>\n",
       "      <td>1</td>\n",
       "      <td>AZ</td>\n",
       "      <td>Final</td>\n",
       "      <td>109332.0</td>\n",
       "      <td>1396499.0</td>\n",
       "      <td>NaN</td>\n",
       "      <td>7.83</td>\n",
       "    </tr>\n",
       "    <tr>\n",
       "      <td>4</td>\n",
       "      <td>1990</td>\n",
       "      <td>1</td>\n",
       "      <td>CA</td>\n",
       "      <td>Final</td>\n",
       "      <td>597161.0</td>\n",
       "      <td>6168009.0</td>\n",
       "      <td>NaN</td>\n",
       "      <td>9.68</td>\n",
       "    </tr>\n",
       "  </tbody>\n",
       "</table>\n",
       "</div>"
      ],
      "text/plain": [
       "   Year  Month State Data Status  Thousand Dollars  Megawatthours  Count  \\\n",
       "0  1990      1    AK       Final           17477.0       181752.0    NaN   \n",
       "1  1990      1    AL       Final          123332.0      2070093.0    NaN   \n",
       "2  1990      1    AR       Final           72506.0      1026320.0    NaN   \n",
       "3  1990      1    AZ       Final          109332.0      1396499.0    NaN   \n",
       "4  1990      1    CA       Final          597161.0      6168009.0    NaN   \n",
       "\n",
       "   Cents/kWh  \n",
       "0       9.62  \n",
       "1       5.96  \n",
       "2       7.06  \n",
       "3       7.83  \n",
       "4       9.68  "
      ]
     },
     "execution_count": 46,
     "metadata": {},
     "output_type": "execute_result"
    }
   ],
   "source": [
    "df_res.head()"
   ]
  },
  {
   "cell_type": "code",
   "execution_count": 47,
   "metadata": {},
   "outputs": [
    {
     "data": {
      "text/plain": [
       "10.309709132271765"
      ]
     },
     "execution_count": 47,
     "metadata": {},
     "output_type": "execute_result"
    }
   ],
   "source": [
    "df_res[\"Cents/kWh\"].mean()"
   ]
  },
  {
   "cell_type": "markdown",
   "metadata": {},
   "source": [
    "# Co2 Mean\n",
    "\n",
    "396.07045543012845 grams/mile"
   ]
  },
  {
   "cell_type": "code",
   "execution_count": 42,
   "metadata": {},
   "outputs": [],
   "source": [
    "path = \"https://raw.githubusercontent.com/mpHarm88/streetsmart/master/data/vehicles.csv\"\n",
    "df_co2 = pd.read_csv(path, na_values=\"-1\")"
   ]
  },
  {
   "cell_type": "code",
   "execution_count": 43,
   "metadata": {},
   "outputs": [
    {
     "data": {
      "text/plain": [
       "Index(['barrels08', 'barrelsA08', 'charge120', 'charge240', 'city08',\n",
       "       'city08U', 'cityA08', 'cityA08U', 'cityCD', 'cityE', 'cityUF', 'co2',\n",
       "       'co2A', 'co2TailpipeAGpm', 'co2TailpipeGpm', 'comb08', 'comb08U',\n",
       "       'combA08', 'combA08U', 'combE', 'combinedCD', 'combinedUF', 'cylinders',\n",
       "       'displ', 'drive', 'engId', 'eng_dscr', 'feScore', 'fuelCost08',\n",
       "       'fuelCostA08', 'fuelType', 'fuelType1', 'ghgScore', 'ghgScoreA',\n",
       "       'highway08', 'highway08U', 'highwayA08', 'highwayA08U', 'highwayCD',\n",
       "       'highwayE', 'highwayUF', 'hlv', 'hpv', 'id', 'lv2', 'lv4', 'make',\n",
       "       'model', 'mpgData', 'phevBlended', 'pv2', 'pv4', 'range', 'rangeCity',\n",
       "       'rangeCityA', 'rangeHwy', 'rangeHwyA', 'trany', 'UCity', 'UCityA',\n",
       "       'UHighway', 'UHighwayA', 'VClass', 'year', 'youSaveSpend', 'guzzler',\n",
       "       'trans_dscr', 'tCharger', 'sCharger', 'atvType', 'fuelType2', 'rangeA',\n",
       "       'evMotor', 'mfrCode', 'c240Dscr', 'charge240b', 'c240bDscr',\n",
       "       'createdOn', 'modifiedOn', 'startStop', 'phevCity', 'phevHwy',\n",
       "       'phevComb'],\n",
       "      dtype='object')"
      ]
     },
     "execution_count": 43,
     "metadata": {},
     "output_type": "execute_result"
    }
   ],
   "source": [
    "df_co2.columns"
   ]
  },
  {
   "cell_type": "code",
   "execution_count": 44,
   "metadata": {},
   "outputs": [
    {
     "data": {
      "text/plain": [
       "396.07045543012845"
      ]
     },
     "execution_count": 44,
     "metadata": {},
     "output_type": "execute_result"
    }
   ],
   "source": [
    "df_co2[\"co2\"].mean()"
   ]
  },
  {
   "cell_type": "code",
   "execution_count": 45,
   "metadata": {},
   "outputs": [
    {
     "data": {
      "text/html": [
       "<div>\n",
       "<style scoped>\n",
       "    .dataframe tbody tr th:only-of-type {\n",
       "        vertical-align: middle;\n",
       "    }\n",
       "\n",
       "    .dataframe tbody tr th {\n",
       "        vertical-align: top;\n",
       "    }\n",
       "\n",
       "    .dataframe thead th {\n",
       "        text-align: right;\n",
       "    }\n",
       "</style>\n",
       "<table border=\"1\" class=\"dataframe\">\n",
       "  <thead>\n",
       "    <tr style=\"text-align: right;\">\n",
       "      <th></th>\n",
       "      <th>make</th>\n",
       "      <th>model</th>\n",
       "      <th>year</th>\n",
       "      <th>fuelType</th>\n",
       "      <th>fuelType1</th>\n",
       "      <th>fuelType2</th>\n",
       "      <th>co2</th>\n",
       "      <th>co2A</th>\n",
       "    </tr>\n",
       "  </thead>\n",
       "  <tbody>\n",
       "    <tr>\n",
       "      <td>0</td>\n",
       "      <td>Alfa Romeo</td>\n",
       "      <td>Spider Veloce 2000</td>\n",
       "      <td>1985</td>\n",
       "      <td>Regular</td>\n",
       "      <td>Regular Gasoline</td>\n",
       "      <td>NaN</td>\n",
       "      <td>NaN</td>\n",
       "      <td>NaN</td>\n",
       "    </tr>\n",
       "    <tr>\n",
       "      <td>1</td>\n",
       "      <td>Ferrari</td>\n",
       "      <td>Testarossa</td>\n",
       "      <td>1985</td>\n",
       "      <td>Regular</td>\n",
       "      <td>Regular Gasoline</td>\n",
       "      <td>NaN</td>\n",
       "      <td>NaN</td>\n",
       "      <td>NaN</td>\n",
       "    </tr>\n",
       "    <tr>\n",
       "      <td>2</td>\n",
       "      <td>Dodge</td>\n",
       "      <td>Charger</td>\n",
       "      <td>1985</td>\n",
       "      <td>Regular</td>\n",
       "      <td>Regular Gasoline</td>\n",
       "      <td>NaN</td>\n",
       "      <td>NaN</td>\n",
       "      <td>NaN</td>\n",
       "    </tr>\n",
       "    <tr>\n",
       "      <td>3</td>\n",
       "      <td>Dodge</td>\n",
       "      <td>B150/B250 Wagon 2WD</td>\n",
       "      <td>1985</td>\n",
       "      <td>Regular</td>\n",
       "      <td>Regular Gasoline</td>\n",
       "      <td>NaN</td>\n",
       "      <td>NaN</td>\n",
       "      <td>NaN</td>\n",
       "    </tr>\n",
       "    <tr>\n",
       "      <td>4</td>\n",
       "      <td>Subaru</td>\n",
       "      <td>Legacy AWD Turbo</td>\n",
       "      <td>1993</td>\n",
       "      <td>Premium</td>\n",
       "      <td>Premium Gasoline</td>\n",
       "      <td>NaN</td>\n",
       "      <td>NaN</td>\n",
       "      <td>NaN</td>\n",
       "    </tr>\n",
       "    <tr>\n",
       "      <td>...</td>\n",
       "      <td>...</td>\n",
       "      <td>...</td>\n",
       "      <td>...</td>\n",
       "      <td>...</td>\n",
       "      <td>...</td>\n",
       "      <td>...</td>\n",
       "      <td>...</td>\n",
       "      <td>...</td>\n",
       "    </tr>\n",
       "    <tr>\n",
       "      <td>95</td>\n",
       "      <td>Pontiac</td>\n",
       "      <td>Grand Prix</td>\n",
       "      <td>1993</td>\n",
       "      <td>Regular</td>\n",
       "      <td>Regular Gasoline</td>\n",
       "      <td>NaN</td>\n",
       "      <td>NaN</td>\n",
       "      <td>NaN</td>\n",
       "    </tr>\n",
       "    <tr>\n",
       "      <td>96</td>\n",
       "      <td>Pontiac</td>\n",
       "      <td>Grand Prix</td>\n",
       "      <td>1993</td>\n",
       "      <td>Regular</td>\n",
       "      <td>Regular Gasoline</td>\n",
       "      <td>NaN</td>\n",
       "      <td>NaN</td>\n",
       "      <td>NaN</td>\n",
       "    </tr>\n",
       "    <tr>\n",
       "      <td>97</td>\n",
       "      <td>Pontiac</td>\n",
       "      <td>Grand Prix</td>\n",
       "      <td>1993</td>\n",
       "      <td>Regular</td>\n",
       "      <td>Regular Gasoline</td>\n",
       "      <td>NaN</td>\n",
       "      <td>NaN</td>\n",
       "      <td>NaN</td>\n",
       "    </tr>\n",
       "    <tr>\n",
       "      <td>98</td>\n",
       "      <td>Pontiac</td>\n",
       "      <td>Grand Prix</td>\n",
       "      <td>1993</td>\n",
       "      <td>Regular</td>\n",
       "      <td>Regular Gasoline</td>\n",
       "      <td>NaN</td>\n",
       "      <td>NaN</td>\n",
       "      <td>NaN</td>\n",
       "    </tr>\n",
       "    <tr>\n",
       "      <td>99</td>\n",
       "      <td>Rolls-Royce</td>\n",
       "      <td>Brooklands/Brklnds L</td>\n",
       "      <td>1993</td>\n",
       "      <td>Premium</td>\n",
       "      <td>Premium Gasoline</td>\n",
       "      <td>NaN</td>\n",
       "      <td>NaN</td>\n",
       "      <td>NaN</td>\n",
       "    </tr>\n",
       "  </tbody>\n",
       "</table>\n",
       "<p>100 rows × 8 columns</p>\n",
       "</div>"
      ],
      "text/plain": [
       "           make                 model  year fuelType         fuelType1  \\\n",
       "0    Alfa Romeo    Spider Veloce 2000  1985  Regular  Regular Gasoline   \n",
       "1       Ferrari            Testarossa  1985  Regular  Regular Gasoline   \n",
       "2         Dodge               Charger  1985  Regular  Regular Gasoline   \n",
       "3         Dodge   B150/B250 Wagon 2WD  1985  Regular  Regular Gasoline   \n",
       "4        Subaru      Legacy AWD Turbo  1993  Premium  Premium Gasoline   \n",
       "..          ...                   ...   ...      ...               ...   \n",
       "95      Pontiac            Grand Prix  1993  Regular  Regular Gasoline   \n",
       "96      Pontiac            Grand Prix  1993  Regular  Regular Gasoline   \n",
       "97      Pontiac            Grand Prix  1993  Regular  Regular Gasoline   \n",
       "98      Pontiac            Grand Prix  1993  Regular  Regular Gasoline   \n",
       "99  Rolls-Royce  Brooklands/Brklnds L  1993  Premium  Premium Gasoline   \n",
       "\n",
       "   fuelType2  co2  co2A  \n",
       "0        NaN  NaN   NaN  \n",
       "1        NaN  NaN   NaN  \n",
       "2        NaN  NaN   NaN  \n",
       "3        NaN  NaN   NaN  \n",
       "4        NaN  NaN   NaN  \n",
       "..       ...  ...   ...  \n",
       "95       NaN  NaN   NaN  \n",
       "96       NaN  NaN   NaN  \n",
       "97       NaN  NaN   NaN  \n",
       "98       NaN  NaN   NaN  \n",
       "99       NaN  NaN   NaN  \n",
       "\n",
       "[100 rows x 8 columns]"
      ]
     },
     "execution_count": 45,
     "metadata": {},
     "output_type": "execute_result"
    }
   ],
   "source": [
    "df_sub = df_co2[[\"make\", \"model\", \"year\", \"fuelType\", \"fuelType1\", \"fuelType2\", \"co2\", \"co2A\"]]\n",
    "df_sub.head(100)"
   ]
  },
  {
   "cell_type": "code",
   "execution_count": 48,
   "metadata": {},
   "outputs": [
    {
     "data": {
      "text/plain": [
       "Regular                        26913\n",
       "Premium                        12027\n",
       "Gasoline or E85                 1339\n",
       "Diesel                          1202\n",
       "Electricity                      237\n",
       "Premium or E85                   127\n",
       "Midgrade                         118\n",
       "Premium and Electricity           75\n",
       "CNG                               60\n",
       "Regular Gas and Electricity       51\n",
       "Premium Gas or Electricity        49\n",
       "Gasoline or natural gas           20\n",
       "Gasoline or propane                8\n",
       "Regular Gas or Electricity         4\n",
       "Name: fuelType, dtype: int64"
      ]
     },
     "execution_count": 48,
     "metadata": {},
     "output_type": "execute_result"
    }
   ],
   "source": [
    "df_sub[\"fuelType\"].value_counts()"
   ]
  },
  {
   "cell_type": "code",
   "execution_count": 49,
   "metadata": {},
   "outputs": [
    {
     "data": {
      "text/plain": [
       "E85            1466\n",
       "Electricity     179\n",
       "Natural Gas      20\n",
       "Propane           8\n",
       "Name: fuelType2, dtype: int64"
      ]
     },
     "execution_count": 49,
     "metadata": {},
     "output_type": "execute_result"
    }
   ],
   "source": [
    "df_sub[\"fuelType2\"].value_counts()"
   ]
  },
  {
   "cell_type": "code",
   "execution_count": 39,
   "metadata": {},
   "outputs": [
    {
     "data": {
      "text/html": [
       "<div>\n",
       "<style scoped>\n",
       "    .dataframe tbody tr th:only-of-type {\n",
       "        vertical-align: middle;\n",
       "    }\n",
       "\n",
       "    .dataframe tbody tr th {\n",
       "        vertical-align: top;\n",
       "    }\n",
       "\n",
       "    .dataframe thead th {\n",
       "        text-align: right;\n",
       "    }\n",
       "</style>\n",
       "<table border=\"1\" class=\"dataframe\">\n",
       "  <thead>\n",
       "    <tr style=\"text-align: right;\">\n",
       "      <th></th>\n",
       "      <th>make</th>\n",
       "      <th>model</th>\n",
       "      <th>year</th>\n",
       "      <th>fuelType</th>\n",
       "      <th>fuelType1</th>\n",
       "      <th>fuelType2</th>\n",
       "      <th>co2</th>\n",
       "      <th>co2A</th>\n",
       "    </tr>\n",
       "  </thead>\n",
       "  <tbody>\n",
       "    <tr>\n",
       "      <td>27397</td>\n",
       "      <td>Ford</td>\n",
       "      <td>Taurus FWD FFV</td>\n",
       "      <td>2015</td>\n",
       "      <td>Gasoline or E85</td>\n",
       "      <td>Regular Gasoline</td>\n",
       "      <td>E85</td>\n",
       "      <td>395</td>\n",
       "      <td>395</td>\n",
       "    </tr>\n",
       "    <tr>\n",
       "      <td>27503</td>\n",
       "      <td>Ford</td>\n",
       "      <td>Taurus AWD</td>\n",
       "      <td>2015</td>\n",
       "      <td>Regular</td>\n",
       "      <td>Regular Gasoline</td>\n",
       "      <td>NaN</td>\n",
       "      <td>450</td>\n",
       "      <td>-1</td>\n",
       "    </tr>\n",
       "    <tr>\n",
       "      <td>27504</td>\n",
       "      <td>Ford</td>\n",
       "      <td>Taurus FWD</td>\n",
       "      <td>2015</td>\n",
       "      <td>Regular</td>\n",
       "      <td>Regular Gasoline</td>\n",
       "      <td>NaN</td>\n",
       "      <td>347</td>\n",
       "      <td>-1</td>\n",
       "    </tr>\n",
       "    <tr>\n",
       "      <td>27506</td>\n",
       "      <td>Ford</td>\n",
       "      <td>Taurus FWD</td>\n",
       "      <td>2015</td>\n",
       "      <td>Regular</td>\n",
       "      <td>Regular Gasoline</td>\n",
       "      <td>NaN</td>\n",
       "      <td>395</td>\n",
       "      <td>-1</td>\n",
       "    </tr>\n",
       "    <tr>\n",
       "      <td>27507</td>\n",
       "      <td>Ford</td>\n",
       "      <td>Taurus AWD FFV</td>\n",
       "      <td>2015</td>\n",
       "      <td>Gasoline or E85</td>\n",
       "      <td>Regular Gasoline</td>\n",
       "      <td>E85</td>\n",
       "      <td>426</td>\n",
       "      <td>429</td>\n",
       "    </tr>\n",
       "  </tbody>\n",
       "</table>\n",
       "</div>"
      ],
      "text/plain": [
       "       make           model  year         fuelType         fuelType1  \\\n",
       "27397  Ford  Taurus FWD FFV  2015  Gasoline or E85  Regular Gasoline   \n",
       "27503  Ford      Taurus AWD  2015          Regular  Regular Gasoline   \n",
       "27504  Ford      Taurus FWD  2015          Regular  Regular Gasoline   \n",
       "27506  Ford      Taurus FWD  2015          Regular  Regular Gasoline   \n",
       "27507  Ford  Taurus AWD FFV  2015  Gasoline or E85  Regular Gasoline   \n",
       "\n",
       "      fuelType2  co2  co2A  \n",
       "27397       E85  395   395  \n",
       "27503       NaN  450    -1  \n",
       "27504       NaN  347    -1  \n",
       "27506       NaN  395    -1  \n",
       "27507       E85  426   429  "
      ]
     },
     "execution_count": 39,
     "metadata": {},
     "output_type": "execute_result"
    }
   ],
   "source": [
    "df_ford = df_sub[df_sub[\"make\"] == \"Ford\"]\n",
    "df2 = df_ford[df_ford[\"year\"] >= 2015]\n",
    "df2.head()"
   ]
  },
  {
   "cell_type": "markdown",
   "metadata": {},
   "source": [
    "# Gas Mean\n",
    "\n",
    "2.2087759717314484"
   ]
  },
  {
   "cell_type": "code",
   "execution_count": 26,
   "metadata": {},
   "outputs": [
    {
     "name": "stdout",
     "output_type": "stream",
     "text": [
      "(1415, 2)\n"
     ]
    }
   ],
   "source": [
    "path_gas = \"../data/Weekly_U.S._Retail_Gasoline_Prices.csv\"\n",
    "df_gas = pd.read_csv(path_gas, \n",
    "                     error_bad_lines=False,\n",
    "                    skiprows=4)\n",
    "\n",
    "print(df_gas.shape)\n",
    "df_gas.columns = [\"Week\", \"Gas Price\"]"
   ]
  },
  {
   "cell_type": "code",
   "execution_count": 27,
   "metadata": {},
   "outputs": [
    {
     "data": {
      "text/html": [
       "<div>\n",
       "<style scoped>\n",
       "    .dataframe tbody tr th:only-of-type {\n",
       "        vertical-align: middle;\n",
       "    }\n",
       "\n",
       "    .dataframe tbody tr th {\n",
       "        vertical-align: top;\n",
       "    }\n",
       "\n",
       "    .dataframe thead th {\n",
       "        text-align: right;\n",
       "    }\n",
       "</style>\n",
       "<table border=\"1\" class=\"dataframe\">\n",
       "  <thead>\n",
       "    <tr style=\"text-align: right;\">\n",
       "      <th></th>\n",
       "      <th>Week</th>\n",
       "      <th>Gas Price</th>\n",
       "    </tr>\n",
       "  </thead>\n",
       "  <tbody>\n",
       "    <tr>\n",
       "      <td>0</td>\n",
       "      <td>05/11/2020</td>\n",
       "      <td>1.941</td>\n",
       "    </tr>\n",
       "    <tr>\n",
       "      <td>1</td>\n",
       "      <td>05/4/2020</td>\n",
       "      <td>1.883</td>\n",
       "    </tr>\n",
       "    <tr>\n",
       "      <td>2</td>\n",
       "      <td>04/27/2020</td>\n",
       "      <td>1.870</td>\n",
       "    </tr>\n",
       "    <tr>\n",
       "      <td>3</td>\n",
       "      <td>04/20/2020</td>\n",
       "      <td>1.910</td>\n",
       "    </tr>\n",
       "    <tr>\n",
       "      <td>4</td>\n",
       "      <td>04/13/2020</td>\n",
       "      <td>1.951</td>\n",
       "    </tr>\n",
       "  </tbody>\n",
       "</table>\n",
       "</div>"
      ],
      "text/plain": [
       "         Week  Gas Price\n",
       "0  05/11/2020      1.941\n",
       "1   05/4/2020      1.883\n",
       "2  04/27/2020      1.870\n",
       "3  04/20/2020      1.910\n",
       "4  04/13/2020      1.951"
      ]
     },
     "execution_count": 27,
     "metadata": {},
     "output_type": "execute_result"
    }
   ],
   "source": [
    "df_gas.head()"
   ]
  },
  {
   "cell_type": "code",
   "execution_count": 28,
   "metadata": {},
   "outputs": [
    {
     "data": {
      "text/html": [
       "<div>\n",
       "<style scoped>\n",
       "    .dataframe tbody tr th:only-of-type {\n",
       "        vertical-align: middle;\n",
       "    }\n",
       "\n",
       "    .dataframe tbody tr th {\n",
       "        vertical-align: top;\n",
       "    }\n",
       "\n",
       "    .dataframe thead th {\n",
       "        text-align: right;\n",
       "    }\n",
       "</style>\n",
       "<table border=\"1\" class=\"dataframe\">\n",
       "  <thead>\n",
       "    <tr style=\"text-align: right;\">\n",
       "      <th></th>\n",
       "      <th>Week</th>\n",
       "      <th>Gas Price</th>\n",
       "    </tr>\n",
       "  </thead>\n",
       "  <tbody>\n",
       "    <tr>\n",
       "      <td>1410</td>\n",
       "      <td>05/3/1993</td>\n",
       "      <td>1.086</td>\n",
       "    </tr>\n",
       "    <tr>\n",
       "      <td>1411</td>\n",
       "      <td>04/26/1993</td>\n",
       "      <td>1.086</td>\n",
       "    </tr>\n",
       "    <tr>\n",
       "      <td>1412</td>\n",
       "      <td>04/19/1993</td>\n",
       "      <td>1.079</td>\n",
       "    </tr>\n",
       "    <tr>\n",
       "      <td>1413</td>\n",
       "      <td>04/12/1993</td>\n",
       "      <td>1.079</td>\n",
       "    </tr>\n",
       "    <tr>\n",
       "      <td>1414</td>\n",
       "      <td>04/5/1993</td>\n",
       "      <td>1.068</td>\n",
       "    </tr>\n",
       "  </tbody>\n",
       "</table>\n",
       "</div>"
      ],
      "text/plain": [
       "            Week  Gas Price\n",
       "1410   05/3/1993      1.086\n",
       "1411  04/26/1993      1.086\n",
       "1412  04/19/1993      1.079\n",
       "1413  04/12/1993      1.079\n",
       "1414   04/5/1993      1.068"
      ]
     },
     "execution_count": 28,
     "metadata": {},
     "output_type": "execute_result"
    }
   ],
   "source": [
    "df_gas.tail()"
   ]
  },
  {
   "cell_type": "code",
   "execution_count": 29,
   "metadata": {},
   "outputs": [
    {
     "data": {
      "text/plain": [
       "2.2087759717314484"
      ]
     },
     "execution_count": 29,
     "metadata": {},
     "output_type": "execute_result"
    }
   ],
   "source": [
    "# mean\n",
    "\n",
    "df_gas[\"Gas Price\"].mean()"
   ]
  },
  {
   "cell_type": "code",
   "execution_count": null,
   "metadata": {},
   "outputs": [],
   "source": [
    "{\"cars\":\n",
    " \n",
    "}"
   ]
  }
 ],
 "metadata": {
  "kernelspec": {
   "display_name": "Python 3",
   "language": "python",
   "name": "python3"
  },
  "language_info": {
   "codemirror_mode": {
    "name": "ipython",
    "version": 3
   },
   "file_extension": ".py",
   "mimetype": "text/x-python",
   "name": "python",
   "nbconvert_exporter": "python",
   "pygments_lexer": "ipython3",
   "version": "3.7.4"
  }
 },
 "nbformat": 4,
 "nbformat_minor": 4
}
