{
 "cells": [
  {
   "cell_type": "code",
   "execution_count": 493,
   "metadata": {},
   "outputs": [],
   "source": [
    "import pandas as pd\n",
    "import numpy as np\n",
    "import matplotlib.pyplot as plt\n",
    "import seaborn as sns\n",
    "\n",
    "# Models\n",
    "from xgboost import XGBRegressor\n",
    "from sklearn.linear_model import Ridge\n",
    "from sklearn.linear_model import Lasso\n",
    "from sklearn.linear_model import LinearRegression\n",
    "from sklearn.ensemble import RandomForestRegressor\n",
    "from sklearn.model_selection import GridSearchCV\n",
    "\n",
    "# Error Metrics\n",
    "from sklearn.metrics import mean_squared_error\n",
    "from sklearn.metrics import mean_absolute_error\n",
    "from sklearn.metrics import r2_score\n",
    "\n",
    "import category_encoders as ce\n",
    "\n",
    "from sklearn.model_selection import train_test_split\n",
    "from sklearn.preprocessing import MinMaxScaler\n",
    "from sklearn.pipeline import make_pipeline\n",
    "from sklearn.impute import SimpleImputer\n",
    "from sklearn.preprocessing import StandardScaler\n",
    "from sklearn.preprocessing import RobustScaler\n",
    "from sklearn.preprocessing import Normalizer\n",
    "from sklearn.preprocessing import PolynomialFeatures\n",
    "\n",
    "from tensorflow import keras\n",
    "from tensorflow.keras.models import Sequential\n",
    "from tensorflow.keras.layers import Dense, Dropout\n",
    "from tensorflow.keras.callbacks import EarlyStopping\n",
    "\n",
    "pd.set_option(\"display.max_columns\", 100)"
   ]
  },
  {
   "cell_type": "markdown",
   "metadata": {},
   "source": [
    "### Data Dictionary:\n",
    "Year = The year recorded\n",
    "\n",
    "Month = The month recorded\n",
    "\n",
    "State = The reporting state\n",
    "\n",
    "Data Status: If the data is the final result or just preliminary results\n",
    "\n",
    "Thousand Dollars: The amount of revenue in thousands of dollars\n",
    "\n",
    "Megawatthours: Total amount of mega watt hours sold\n",
    "\n",
    "Count: Customer count\n",
    "\n",
    "Cents/kWh: Pennies paid per killowatt hour"
   ]
  },
  {
   "cell_type": "code",
   "execution_count": 281,
   "metadata": {},
   "outputs": [
    {
     "name": "stdout",
     "output_type": "stream",
     "text": [
      "Shape of data:\n",
      "(18462, 8)\n",
      "\n",
      "Sum of NaNs:\n",
      "Year                    0\n",
      "Month                   0\n",
      "State                   0\n",
      "Data Status             0\n",
      "Thousand Dollars        0\n",
      "Megawatthours           0\n",
      "Count               10404\n",
      "Cents/kWh               0\n",
      "dtype: int64\n",
      "\n"
     ]
    },
    {
     "data": {
      "text/html": [
       "<div>\n",
       "<style scoped>\n",
       "    .dataframe tbody tr th:only-of-type {\n",
       "        vertical-align: middle;\n",
       "    }\n",
       "\n",
       "    .dataframe tbody tr th {\n",
       "        vertical-align: top;\n",
       "    }\n",
       "\n",
       "    .dataframe thead th {\n",
       "        text-align: right;\n",
       "    }\n",
       "</style>\n",
       "<table border=\"1\" class=\"dataframe\">\n",
       "  <thead>\n",
       "    <tr style=\"text-align: right;\">\n",
       "      <th></th>\n",
       "      <th>Year</th>\n",
       "      <th>Month</th>\n",
       "      <th>Thousand Dollars</th>\n",
       "      <th>Megawatthours</th>\n",
       "      <th>Count</th>\n",
       "      <th>Cents/kWh</th>\n",
       "    </tr>\n",
       "  </thead>\n",
       "  <tbody>\n",
       "    <tr>\n",
       "      <td>count</td>\n",
       "      <td>18462.000000</td>\n",
       "      <td>18462.000000</td>\n",
       "      <td>1.846200e+04</td>\n",
       "      <td>1.846200e+04</td>\n",
       "      <td>8.058000e+03</td>\n",
       "      <td>18462.000000</td>\n",
       "    </tr>\n",
       "    <tr>\n",
       "      <td>mean</td>\n",
       "      <td>2004.585635</td>\n",
       "      <td>6.472376</td>\n",
       "      <td>2.109578e+05</td>\n",
       "      <td>2.044675e+06</td>\n",
       "      <td>2.492169e+06</td>\n",
       "      <td>10.309709</td>\n",
       "    </tr>\n",
       "    <tr>\n",
       "      <td>std</td>\n",
       "      <td>8.707863</td>\n",
       "      <td>3.462689</td>\n",
       "      <td>2.540575e+05</td>\n",
       "      <td>2.171130e+06</td>\n",
       "      <td>2.582672e+06</td>\n",
       "      <td>3.873845</td>\n",
       "    </tr>\n",
       "    <tr>\n",
       "      <td>min</td>\n",
       "      <td>1990.000000</td>\n",
       "      <td>1.000000</td>\n",
       "      <td>4.708000e+03</td>\n",
       "      <td>7.388100e+04</td>\n",
       "      <td>2.047470e+05</td>\n",
       "      <td>4.180000</td>\n",
       "    </tr>\n",
       "    <tr>\n",
       "      <td>25%</td>\n",
       "      <td>1997.000000</td>\n",
       "      <td>3.000000</td>\n",
       "      <td>4.872925e+04</td>\n",
       "      <td>4.712524e+05</td>\n",
       "      <td>7.183715e+05</td>\n",
       "      <td>7.580000</td>\n",
       "    </tr>\n",
       "    <tr>\n",
       "      <td>50%</td>\n",
       "      <td>2005.000000</td>\n",
       "      <td>6.000000</td>\n",
       "      <td>1.289130e+05</td>\n",
       "      <td>1.484514e+06</td>\n",
       "      <td>1.823814e+06</td>\n",
       "      <td>9.600000</td>\n",
       "    </tr>\n",
       "    <tr>\n",
       "      <td>75%</td>\n",
       "      <td>2012.000000</td>\n",
       "      <td>9.000000</td>\n",
       "      <td>2.674162e+05</td>\n",
       "      <td>2.747993e+06</td>\n",
       "      <td>2.859574e+06</td>\n",
       "      <td>12.000000</td>\n",
       "    </tr>\n",
       "    <tr>\n",
       "      <td>max</td>\n",
       "      <td>2020.000000</td>\n",
       "      <td>12.000000</td>\n",
       "      <td>2.426799e+06</td>\n",
       "      <td>1.862066e+07</td>\n",
       "      <td>1.420511e+07</td>\n",
       "      <td>40.160000</td>\n",
       "    </tr>\n",
       "  </tbody>\n",
       "</table>\n",
       "</div>"
      ],
      "text/plain": [
       "               Year         Month  Thousand Dollars  Megawatthours  \\\n",
       "count  18462.000000  18462.000000      1.846200e+04   1.846200e+04   \n",
       "mean    2004.585635      6.472376      2.109578e+05   2.044675e+06   \n",
       "std        8.707863      3.462689      2.540575e+05   2.171130e+06   \n",
       "min     1990.000000      1.000000      4.708000e+03   7.388100e+04   \n",
       "25%     1997.000000      3.000000      4.872925e+04   4.712524e+05   \n",
       "50%     2005.000000      6.000000      1.289130e+05   1.484514e+06   \n",
       "75%     2012.000000      9.000000      2.674162e+05   2.747993e+06   \n",
       "max     2020.000000     12.000000      2.426799e+06   1.862066e+07   \n",
       "\n",
       "              Count     Cents/kWh  \n",
       "count  8.058000e+03  18462.000000  \n",
       "mean   2.492169e+06     10.309709  \n",
       "std    2.582672e+06      3.873845  \n",
       "min    2.047470e+05      4.180000  \n",
       "25%    7.183715e+05      7.580000  \n",
       "50%    1.823814e+06      9.600000  \n",
       "75%    2.859574e+06     12.000000  \n",
       "max    1.420511e+07     40.160000  "
      ]
     },
     "execution_count": 281,
     "metadata": {},
     "output_type": "execute_result"
    }
   ],
   "source": [
    "path = \"../data/us_electricity_sales_revenue.xlsx\"\n",
    "\n",
    "# Only use the residential rows to caluculate kwh cost for the average consumer\n",
    "\n",
    "df_res = pd.read_excel(\n",
    "    path, \n",
    "    header=2, \n",
    "    usecols=[0,1,2,3,4,5,6,7], \n",
    "    skipfooter=1, \n",
    "    na_values=\".\"\n",
    ")\n",
    "\n",
    "print(f\"Shape of data:\\n{df_res.shape}\\n\")\n",
    "print(f\"Sum of NaNs:\\n{df_res.isnull().sum()}\\n\")\n",
    "df_res.describe()"
   ]
  },
  {
   "cell_type": "code",
   "execution_count": 282,
   "metadata": {},
   "outputs": [
    {
     "data": {
      "text/plain": [
       "Year                  int64\n",
       "Month                 int64\n",
       "State                object\n",
       "Data Status          object\n",
       "Thousand Dollars    float64\n",
       "Megawatthours       float64\n",
       "Count               float64\n",
       "Cents/kWh           float64\n",
       "dtype: object"
      ]
     },
     "execution_count": 282,
     "metadata": {},
     "output_type": "execute_result"
    }
   ],
   "source": [
    "df_res.dtypes"
   ]
  },
  {
   "cell_type": "markdown",
   "metadata": {},
   "source": [
    "# Helper Functions"
   ]
  },
  {
   "cell_type": "code",
   "execution_count": 283,
   "metadata": {},
   "outputs": [],
   "source": [
    "def scores(y_true, y_pred):\n",
    "    \n",
    "    \"\"\"\n",
    "    -This functions returns the MAE, MSE, RMSE, R2 scores\n",
    "    -This function also takes the model name\n",
    "        \n",
    "    \"\"\"\n",
    "    \n",
    "    err_mae = mean_absolute_error(y_true, y_pred)\n",
    "    err_mse = mean_squared_error(y_true, y_pred)\n",
    "    err_rmse = np.sqrt(err_mse)\n",
    "    err_r2 = r2_score(y_true, y_pred)\n",
    "    \n",
    "    print(f\"MAE: {err_mae}\\n\")\n",
    "    print(f\"MSE: {err_mse}\\n\")\n",
    "    print(f\"RMSE: {err_rmse}\\n\")\n",
    "    print(f\"R^2: {err_r2}\\n\")\n",
    "    \n",
    "    return"
   ]
  },
  {
   "cell_type": "markdown",
   "metadata": {},
   "source": [
    "# Baseline\n",
    "\n",
    "Release Canvas goal is to beat mean baseline by atleast 10%"
   ]
  },
  {
   "cell_type": "code",
   "execution_count": 284,
   "metadata": {},
   "outputs": [
    {
     "name": "stdout",
     "output_type": "stream",
     "text": [
      "The mean cost of cent/kWh: 10.309709132271765\n",
      "\n",
      "MAE: 2.8067834194081334\n",
      "\n",
      "MSE: 15.005860954286662\n",
      "\n",
      "RMSE: 3.873739918255569\n",
      "\n",
      "R^2: -2.220446049250313e-16\n",
      "\n"
     ]
    }
   ],
   "source": [
    "mean_cost = df_res[\"Cents/kWh\"].mean()\n",
    "print(f\"The mean cost of cent/kWh: {mean_cost}\\n\")\n",
    "\n",
    "y_true_base = df_res[\"Cents/kWh\"]\n",
    "y_pred_base = [mean_cost for x in range(len(df_res))]\n",
    "\n",
    "scores(y_true_base, y_pred_base)"
   ]
  },
  {
   "cell_type": "markdown",
   "metadata": {},
   "source": [
    "# Preprocessing\n",
    "\n",
    "Rows = 18462 (original size)\n",
    "\n",
    "20% (test) = 3692\n",
    "\n",
    "18462 - 3692 = 14770 (original train size with test removed)\n",
    "\n",
    "20% (val) = 2954\n",
    "\n",
    "14770 - 2954 = 11816 (new train size after val removed)\n",
    "\n",
    "\n",
    "#### Evaluation:\n",
    "\n",
    "Test on years 2014 and onward\n",
    "\n",
    "Validate: on year between and including 2009 and up to but not including 2014\n",
    "\n",
    "Train: on years before 2009"
   ]
  },
  {
   "cell_type": "code",
   "execution_count": 331,
   "metadata": {},
   "outputs": [
    {
     "name": "stdout",
     "output_type": "stream",
     "text": [
      "Test shape: (3774, 8)\n",
      "Val shape: (3060, 8)\n",
      "Train shape: (11628, 8)\n"
     ]
    }
   ],
   "source": [
    "test = df_res[df_res[\"Year\"] >= 2014]\n",
    "print(f\"Test shape: {test.shape}\")\n",
    "\n",
    "val = df_res[(df_res[\"Year\"] >= 2009) & (df_res[\"Year\"] < 2014)]\n",
    "print(f\"Val shape: {val.shape}\")\n",
    "\n",
    "train = df_res[df_res[\"Year\"] < 2009]\n",
    "print(f\"Train shape: {train.shape}\")"
   ]
  },
  {
   "cell_type": "code",
   "execution_count": 286,
   "metadata": {},
   "outputs": [
    {
     "data": {
      "text/html": [
       "<div>\n",
       "<style scoped>\n",
       "    .dataframe tbody tr th:only-of-type {\n",
       "        vertical-align: middle;\n",
       "    }\n",
       "\n",
       "    .dataframe tbody tr th {\n",
       "        vertical-align: top;\n",
       "    }\n",
       "\n",
       "    .dataframe thead th {\n",
       "        text-align: right;\n",
       "    }\n",
       "</style>\n",
       "<table border=\"1\" class=\"dataframe\">\n",
       "  <thead>\n",
       "    <tr style=\"text-align: right;\">\n",
       "      <th></th>\n",
       "      <th>Year</th>\n",
       "      <th>Month</th>\n",
       "      <th>State</th>\n",
       "      <th>Data Status</th>\n",
       "      <th>Thousand Dollars</th>\n",
       "      <th>Megawatthours</th>\n",
       "      <th>Count</th>\n",
       "      <th>Cents/kWh</th>\n",
       "    </tr>\n",
       "  </thead>\n",
       "  <tbody>\n",
       "    <tr>\n",
       "      <td>0</td>\n",
       "      <td>1990</td>\n",
       "      <td>1</td>\n",
       "      <td>AK</td>\n",
       "      <td>Final</td>\n",
       "      <td>17477.0</td>\n",
       "      <td>181752.0</td>\n",
       "      <td>NaN</td>\n",
       "      <td>9.62</td>\n",
       "    </tr>\n",
       "    <tr>\n",
       "      <td>1</td>\n",
       "      <td>1990</td>\n",
       "      <td>1</td>\n",
       "      <td>AL</td>\n",
       "      <td>Final</td>\n",
       "      <td>123332.0</td>\n",
       "      <td>2070093.0</td>\n",
       "      <td>NaN</td>\n",
       "      <td>5.96</td>\n",
       "    </tr>\n",
       "    <tr>\n",
       "      <td>2</td>\n",
       "      <td>1990</td>\n",
       "      <td>1</td>\n",
       "      <td>AR</td>\n",
       "      <td>Final</td>\n",
       "      <td>72506.0</td>\n",
       "      <td>1026320.0</td>\n",
       "      <td>NaN</td>\n",
       "      <td>7.06</td>\n",
       "    </tr>\n",
       "    <tr>\n",
       "      <td>3</td>\n",
       "      <td>1990</td>\n",
       "      <td>1</td>\n",
       "      <td>AZ</td>\n",
       "      <td>Final</td>\n",
       "      <td>109332.0</td>\n",
       "      <td>1396499.0</td>\n",
       "      <td>NaN</td>\n",
       "      <td>7.83</td>\n",
       "    </tr>\n",
       "    <tr>\n",
       "      <td>4</td>\n",
       "      <td>1990</td>\n",
       "      <td>1</td>\n",
       "      <td>CA</td>\n",
       "      <td>Final</td>\n",
       "      <td>597161.0</td>\n",
       "      <td>6168009.0</td>\n",
       "      <td>NaN</td>\n",
       "      <td>9.68</td>\n",
       "    </tr>\n",
       "  </tbody>\n",
       "</table>\n",
       "</div>"
      ],
      "text/plain": [
       "   Year  Month State Data Status  Thousand Dollars  Megawatthours  Count  \\\n",
       "0  1990      1    AK       Final           17477.0       181752.0    NaN   \n",
       "1  1990      1    AL       Final          123332.0      2070093.0    NaN   \n",
       "2  1990      1    AR       Final           72506.0      1026320.0    NaN   \n",
       "3  1990      1    AZ       Final          109332.0      1396499.0    NaN   \n",
       "4  1990      1    CA       Final          597161.0      6168009.0    NaN   \n",
       "\n",
       "   Cents/kWh  \n",
       "0       9.62  \n",
       "1       5.96  \n",
       "2       7.06  \n",
       "3       7.83  \n",
       "4       9.68  "
      ]
     },
     "execution_count": 286,
     "metadata": {},
     "output_type": "execute_result"
    }
   ],
   "source": [
    "df_res.head()"
   ]
  },
  {
   "cell_type": "code",
   "execution_count": 465,
   "metadata": {},
   "outputs": [],
   "source": [
    "#Split and Drop\n",
    "\n",
    "target = \"Cents/kWh\"\n",
    "drop_col = [target, \"Data Status\", \"Thousand Dollars\", \"Megawatthours\", \"Count\"]\n",
    "\n",
    "X_train = train.drop(drop_col, axis=1)\n",
    "y_train = train[target]\n",
    "\n",
    "X_val = val.drop(drop_col, axis=1)\n",
    "y_val= val[target]\n",
    "\n",
    "X_test = test.drop(drop_col, axis=1)\n",
    "y_test = test[target]"
   ]
  },
  {
   "cell_type": "markdown",
   "metadata": {},
   "source": [
    "# Linear Regression\n",
    "\n",
    "Docs: https://scikit-learn.org/stable/modules/generated/sklearn.linear_model.LinearRegression.html"
   ]
  },
  {
   "cell_type": "code",
   "execution_count": 471,
   "metadata": {},
   "outputs": [
    {
     "name": "stdout",
     "output_type": "stream",
     "text": [
      "MAE: 2.797318917046543\n",
      "\n",
      "MSE: 15.806858124027434\n",
      "\n",
      "RMSE: 3.9757839634501564\n",
      "\n",
      "R^2: 0.0399598290328681\n",
      "\n"
     ]
    }
   ],
   "source": [
    "lr_pipe = make_pipeline(\n",
    "    ce.OrdinalEncoder(),\n",
    "    SimpleImputer(strategy=\"mean\"),\n",
    "    PolynomialFeatures(2),\n",
    "    MinMaxScaler(),\n",
    "    LinearRegression(\n",
    "        normalize=True\n",
    "    )   \n",
    ")\n",
    "\n",
    "lr_pipe.fit(X_train, y_train)\n",
    "y_pred_lr = lr_pipe.predict(X_val)\n",
    "\n",
    "scores(y_val, y_pred_lr)"
   ]
  },
  {
   "cell_type": "code",
   "execution_count": 468,
   "metadata": {},
   "outputs": [
    {
     "name": "stdout",
     "output_type": "stream",
     "text": [
      "MAE: 2.8067834194081334\n",
      "\n",
      "MSE: 15.005860954286662\n",
      "\n",
      "RMSE: 3.873739918255569\n",
      "\n",
      "R^2: -2.220446049250313e-16\n",
      "\n"
     ]
    }
   ],
   "source": [
    "# Baseline\n",
    "scores(y_true_base, y_pred_base)"
   ]
  },
  {
   "cell_type": "code",
   "execution_count": 216,
   "metadata": {},
   "outputs": [],
   "source": [
    "# Viz\n",
    "# pred_df = pd.DataFrame({\"y_true\":y_val,\n",
    "#                         \"y_pred\":y_pred_lr,\n",
    "#                         \"Year\":X_val[\"Year\"],\n",
    "#                         \"Month\":X_val[\"Month\"]})\n",
    "\n",
    "# pred_df = pred_df.groupby([\"Month\", \"Year\"]).mean()\n",
    "\n",
    "# pred_df[\"y_pred\"].plot(kind=\"line\",\n",
    "#                        legend=True, \n",
    "#                        title=\"Model Predictions vs Actual for Cents/kWh\", \n",
    "#                        )\n",
    "# pred_df[\"y_true\"].plot(kind=\"line\", legend=True);"
   ]
  },
  {
   "cell_type": "markdown",
   "metadata": {},
   "source": [
    "# Ridge"
   ]
  },
  {
   "cell_type": "code",
   "execution_count": 498,
   "metadata": {},
   "outputs": [
    {
     "name": "stdout",
     "output_type": "stream",
     "text": [
      "MAE: 2.492275390622885\n",
      "\n",
      "MSE: 17.992703237060027\n",
      "\n",
      "RMSE: 4.241780668193492\n",
      "\n",
      "R^2: -0.09279894564314595\n",
      "\n"
     ]
    }
   ],
   "source": [
    "rdg_pipe = make_pipeline(\n",
    "    ce.OrdinalEncoder(),\n",
    "    SimpleImputer(strategy=\"mean\"),\n",
    "    PolynomialFeatures(2),\n",
    "    MinMaxScaler(),\n",
    "    Ridge(\n",
    "    alpha=.5)\n",
    ")   \n",
    "\n",
    "\n",
    "rdg_pipe.fit(X_train, y_train)\n",
    "y_pred_rdg = rdg_pipe.predict(X_val)\n",
    "\n",
    "scores(y_val, y_pred_rdg)"
   ]
  },
  {
   "cell_type": "code",
   "execution_count": 485,
   "metadata": {},
   "outputs": [
    {
     "name": "stdout",
     "output_type": "stream",
     "text": [
      "MAE: 2.8067834194081334\n",
      "\n",
      "MSE: 15.005860954286662\n",
      "\n",
      "RMSE: 3.873739918255569\n",
      "\n",
      "R^2: -2.220446049250313e-16\n",
      "\n"
     ]
    }
   ],
   "source": [
    "# Baseline\n",
    "scores(y_true_base, y_pred_base)"
   ]
  },
  {
   "cell_type": "markdown",
   "metadata": {},
   "source": [
    "# Lasso"
   ]
  },
  {
   "cell_type": "code",
   "execution_count": 501,
   "metadata": {},
   "outputs": [
    {
     "name": "stdout",
     "output_type": "stream",
     "text": [
      "MAE: 2.762788981278083\n",
      "\n",
      "MSE: 21.17511775883894\n",
      "\n",
      "RMSE: 4.601642941259017\n",
      "\n",
      "R^2: -0.2860850343524981\n",
      "\n"
     ]
    }
   ],
   "source": [
    "lso_pipe = make_pipeline(\n",
    "    ce.OrdinalEncoder(),\n",
    "    SimpleImputer(strategy=\"mean\"),\n",
    "    PolynomialFeatures(2),\n",
    "    MinMaxScaler(),\n",
    "    Lasso(\n",
    "    alpha=0.1)\n",
    ")   \n",
    "\n",
    "\n",
    "lso_pipe.fit(X_train, y_train)\n",
    "y_pred_lso = lso_pipe.predict(X_val)\n",
    "\n",
    "scores(y_val, y_pred_lso)"
   ]
  },
  {
   "cell_type": "code",
   "execution_count": 502,
   "metadata": {},
   "outputs": [
    {
     "name": "stdout",
     "output_type": "stream",
     "text": [
      "MAE: 2.8067834194081334\n",
      "\n",
      "MSE: 15.005860954286662\n",
      "\n",
      "RMSE: 3.873739918255569\n",
      "\n",
      "R^2: -2.220446049250313e-16\n",
      "\n"
     ]
    }
   ],
   "source": [
    "# Baseline\n",
    "scores(y_true_base, y_pred_base)"
   ]
  },
  {
   "cell_type": "markdown",
   "metadata": {},
   "source": [
    "# Random Forest\n",
    "\n",
    "Docs: https://scikit-learn.org/stable/modules/generated/sklearn.ensemble.RandomForestRegressor.html"
   ]
  },
  {
   "cell_type": "code",
   "execution_count": 483,
   "metadata": {},
   "outputs": [
    {
     "name": "stdout",
     "output_type": "stream",
     "text": [
      "MAE: 1.2405932091503313\n",
      "\n",
      "MSE: 2.6602893883931724\n",
      "\n",
      "RMSE: 1.6310393583213043\n",
      "\n",
      "R^2: 0.8384255328152274\n",
      "\n"
     ]
    }
   ],
   "source": [
    "rf_pipe = make_pipeline(\n",
    "    ce.OrdinalEncoder(),\n",
    "    SimpleImputer(strategy=\"mean\"),\n",
    "    PolynomialFeatures(2),\n",
    "    MinMaxScaler(),\n",
    "    RandomForestRegressor(\n",
    "        n_estimators=1000,\n",
    "    )   \n",
    ")\n",
    "\n",
    "rf_pipe.fit(X_train, y_train)\n",
    "y_pred_rf = rf_pipe.predict(X_val)\n",
    "\n",
    "scores(y_val, y_pred_rf)"
   ]
  },
  {
   "cell_type": "code",
   "execution_count": 503,
   "metadata": {},
   "outputs": [
    {
     "name": "stdout",
     "output_type": "stream",
     "text": [
      "MAE: 2.8067834194081334\n",
      "\n",
      "MSE: 15.005860954286662\n",
      "\n",
      "RMSE: 3.873739918255569\n",
      "\n",
      "R^2: -2.220446049250313e-16\n",
      "\n"
     ]
    }
   ],
   "source": [
    "# Baseline\n",
    "scores(y_true_base, y_pred_base)"
   ]
  },
  {
   "cell_type": "code",
   "execution_count": 217,
   "metadata": {},
   "outputs": [],
   "source": [
    "# Viz\n",
    "\n",
    "# pred_df = pd.DataFrame({\"y_true\":y_val,\n",
    "#                         \"y_pred\":y_pred_rf,\n",
    "#                         \"Year\":X_val[\"Year\"],\n",
    "#                         \"Month\":X_val[\"Month\"]})\n",
    "\n",
    "# # pred_df = pred_df.groupby([\"Month\", \"Year\"]).mean()\n",
    "\n",
    "# pred_df[\"y_pred\"].plot(kind=\"line\",\n",
    "#                        legend=True, \n",
    "#                        title=\"Model Predictions vs Actual for Cents/kWh\", \n",
    "#                        )\n",
    "# pred_df[\"y_true\"].plot(kind=\"line\", legend=True);"
   ]
  },
  {
   "cell_type": "code",
   "execution_count": 218,
   "metadata": {},
   "outputs": [],
   "source": [
    "# g = sns.lmplot(data=pred_df, x=\"Month\", y=\"y_pred\", x_estimator=np.mean)\n",
    "# sns.lmplot(data=pred_df, x=\"Month\", y=\"y_true\", x_estimator=np.mean);"
   ]
  },
  {
   "cell_type": "markdown",
   "metadata": {},
   "source": [
    "# XGBoost\n",
    "\n",
    "Docs: https://xgboost.readthedocs.io/en/latest/python/python_api.html#module-xgboost.sklearn"
   ]
  },
  {
   "cell_type": "code",
   "execution_count": 480,
   "metadata": {},
   "outputs": [
    {
     "name": "stdout",
     "output_type": "stream",
     "text": [
      "MAE: 1.1400350043602239\n",
      "\n",
      "MSE: 2.3529499815349713\n",
      "\n",
      "RMSE: 1.533932847791901\n",
      "\n",
      "R^2: 0.8570919986232918\n",
      "\n"
     ]
    }
   ],
   "source": [
    "xg_pipe = make_pipeline(\n",
    "    ce.OrdinalEncoder(),\n",
    "    SimpleImputer(strategy=\"mean\"),\n",
    "    PolynomialFeatures(2),\n",
    "    MinMaxScaler(),\n",
    "    XGBRegressor(\n",
    "        n_estimators=1000,\n",
    "        max_depth=5,\n",
    "        learning_rate=0.01\n",
    "    )   \n",
    ")\n",
    "\n",
    "xg_pipe.fit(X_train, y_train)\n",
    "y_pred_xgb = xg_pipe.predict(X_val)\n",
    "\n",
    "scores(y_val, y_pred_xgb)"
   ]
  },
  {
   "cell_type": "code",
   "execution_count": 296,
   "metadata": {},
   "outputs": [
    {
     "name": "stdout",
     "output_type": "stream",
     "text": [
      "MAE: 2.8067834194081334\n",
      "\n",
      "MSE: 15.005860954286662\n",
      "\n",
      "RMSE: 3.873739918255569\n",
      "\n",
      "R^2: -2.220446049250313e-16\n",
      "\n"
     ]
    }
   ],
   "source": [
    "# Baseline\n",
    "scores(y_true_base, y_pred_base)"
   ]
  },
  {
   "cell_type": "markdown",
   "metadata": {},
   "source": [
    "# ANN"
   ]
  },
  {
   "cell_type": "code",
   "execution_count": 504,
   "metadata": {},
   "outputs": [],
   "source": [
    "ann_pipe = make_pipeline(\n",
    "    ce.OrdinalEncoder(),\n",
    "    SimpleImputer(strategy=\"mean\"),\n",
    "    RobustScaler()\n",
    "#     Normalizer() # Does not have inverse_transform\n",
    "#     StandardScaler()\n",
    "#     MinMaxScaler()\n",
    ")"
   ]
  },
  {
   "cell_type": "code",
   "execution_count": 371,
   "metadata": {},
   "outputs": [
    {
     "name": "stdout",
     "output_type": "stream",
     "text": [
      "Shape: (11628, 3)\n",
      "Shape: (11628, 1)\n",
      "Shape: (3060, 3)\n",
      "Shape: (3060, 1)\n",
      "Shape: (3774, 3)\n",
      "Shape: (3774, 1)\n"
     ]
    }
   ],
   "source": [
    "#Split and Drop\n",
    "\n",
    "target = \"Cents/kWh\"\n",
    "drop_col = [\"Data Status\", \"Thousand Dollars\", \"Megawatthours\", \"Count\"]\n",
    "\n",
    "#Scale all the data first so the y is scaled with the same scaler to maintain continuity\n",
    "ann_train = ann_pipe.fit_transform(train.drop(drop_col, axis=1))\n",
    "ann_val = ann_pipe.transform(val.drop(drop_col, axis=1))\n",
    "ann_test = ann_pipe.transform(test.drop(drop_col, axis=1))\n",
    "\n",
    "# Create evaluation sets by slicing into the processed numpy arrays\n",
    "X_train = ann_train[:, 0:3]\n",
    "y_train = ann_train[:, 3:]\n",
    "\n",
    "X_val = ann_val[:, 0:3]\n",
    "y_val= ann_val[:, 3:]\n",
    "\n",
    "X_test = ann_test[:, 0:3]\n",
    "y_test = ann_test[:, 3:]\n",
    "\n",
    "ls = [X_train, y_train, X_val, y_val, X_test, y_test]\n",
    "for x in ls:\n",
    "    print(f\"Shape: {x.shape}\")"
   ]
  },
  {
   "cell_type": "code",
   "execution_count": 372,
   "metadata": {},
   "outputs": [
    {
     "name": "stdout",
     "output_type": "stream",
     "text": [
      "Train on 11628 samples, validate on 3060 samples\n",
      "Epoch 1/1000\n",
      "11628/11628 [==============================] - 1s 66us/sample - loss: 0.6275 - RootMeanSquaredError: 0.9274 - val_loss: 0.9456 - val_RootMeanSquaredError: 1.5569\n",
      "Epoch 2/1000\n",
      "11628/11628 [==============================] - 0s 36us/sample - loss: 0.6055 - RootMeanSquaredError: 0.8963 - val_loss: 0.8779 - val_RootMeanSquaredError: 1.4850\n",
      "Epoch 3/1000\n",
      "11628/11628 [==============================] - 0s 36us/sample - loss: 0.6032 - RootMeanSquaredError: 0.8944 - val_loss: 0.8540 - val_RootMeanSquaredError: 1.4538\n",
      "Epoch 4/1000\n",
      "11628/11628 [==============================] - 0s 36us/sample - loss: 0.6018 - RootMeanSquaredError: 0.8918 - val_loss: 0.8393 - val_RootMeanSquaredError: 1.4297\n",
      "Epoch 5/1000\n",
      "11628/11628 [==============================] - 0s 36us/sample - loss: 0.6015 - RootMeanSquaredError: 0.8900 - val_loss: 0.8361 - val_RootMeanSquaredError: 1.4218\n",
      "Epoch 6/1000\n",
      "11628/11628 [==============================] - 0s 35us/sample - loss: 0.6009 - RootMeanSquaredError: 0.8908 - val_loss: 0.8292 - val_RootMeanSquaredError: 1.4032\n",
      "Epoch 7/1000\n",
      "11628/11628 [==============================] - 0s 36us/sample - loss: 0.6006 - RootMeanSquaredError: 0.8890 - val_loss: 0.8370 - val_RootMeanSquaredError: 1.4270\n",
      "Epoch 8/1000\n",
      "11628/11628 [==============================] - 0s 36us/sample - loss: 0.6007 - RootMeanSquaredError: 0.8905 - val_loss: 0.8246 - val_RootMeanSquaredError: 1.3848\n",
      "Epoch 9/1000\n",
      "11628/11628 [==============================] - 0s 36us/sample - loss: 0.6003 - RootMeanSquaredError: 0.8893 - val_loss: 0.8253 - val_RootMeanSquaredError: 1.3973\n",
      "Epoch 10/1000\n",
      "11628/11628 [==============================] - 0s 36us/sample - loss: 0.5999 - RootMeanSquaredError: 0.8897 - val_loss: 0.8248 - val_RootMeanSquaredError: 1.3971\n",
      "Epoch 11/1000\n",
      "11628/11628 [==============================] - 0s 36us/sample - loss: 0.5998 - RootMeanSquaredError: 0.8894 - val_loss: 0.8284 - val_RootMeanSquaredError: 1.4060\n",
      "Epoch 12/1000\n",
      "11628/11628 [==============================] - 0s 35us/sample - loss: 0.5995 - RootMeanSquaredError: 0.8904 - val_loss: 0.8252 - val_RootMeanSquaredError: 1.4018\n",
      "Epoch 13/1000\n",
      "11628/11628 [==============================] - 0s 36us/sample - loss: 0.5992 - RootMeanSquaredError: 0.8893 - val_loss: 0.8317 - val_RootMeanSquaredError: 1.4197\n",
      "Epoch 14/1000\n",
      "11628/11628 [==============================] - 0s 35us/sample - loss: 0.5985 - RootMeanSquaredError: 0.8887 - val_loss: 0.8371 - val_RootMeanSquaredError: 1.4355\n",
      "Epoch 15/1000\n",
      "11628/11628 [==============================] - 0s 36us/sample - loss: 0.5981 - RootMeanSquaredError: 0.8894 - val_loss: 0.8271 - val_RootMeanSquaredError: 1.4118\n",
      "Epoch 16/1000\n",
      "11628/11628 [==============================] - 0s 36us/sample - loss: 0.5964 - RootMeanSquaredError: 0.8880 - val_loss: 0.8196 - val_RootMeanSquaredError: 1.3756\n",
      "Epoch 17/1000\n",
      "11628/11628 [==============================] - 0s 36us/sample - loss: 0.5948 - RootMeanSquaredError: 0.8867 - val_loss: 0.8212 - val_RootMeanSquaredError: 1.4009\n",
      "Epoch 18/1000\n",
      "11628/11628 [==============================] - 0s 36us/sample - loss: 0.5928 - RootMeanSquaredError: 0.8824 - val_loss: 0.8204 - val_RootMeanSquaredError: 1.3934\n",
      "Epoch 19/1000\n",
      "11628/11628 [==============================] - 0s 36us/sample - loss: 0.5912 - RootMeanSquaredError: 0.8829 - val_loss: 0.8238 - val_RootMeanSquaredError: 1.4106\n",
      "Epoch 20/1000\n",
      "11628/11628 [==============================] - 0s 36us/sample - loss: 0.5896 - RootMeanSquaredError: 0.8830 - val_loss: 0.8222 - val_RootMeanSquaredError: 1.3999\n",
      "Epoch 21/1000\n",
      "11628/11628 [==============================] - 0s 36us/sample - loss: 0.5876 - RootMeanSquaredError: 0.8811 - val_loss: 0.8203 - val_RootMeanSquaredError: 1.3861\n",
      "Epoch 22/1000\n",
      "11628/11628 [==============================] - 0s 36us/sample - loss: 0.5858 - RootMeanSquaredError: 0.8799 - val_loss: 0.8198 - val_RootMeanSquaredError: 1.3756\n",
      "Epoch 23/1000\n",
      "11628/11628 [==============================] - 0s 37us/sample - loss: 0.5851 - RootMeanSquaredError: 0.8793 - val_loss: 0.8286 - val_RootMeanSquaredError: 1.4259\n",
      "Epoch 24/1000\n",
      "11628/11628 [==============================] - 0s 36us/sample - loss: 0.5842 - RootMeanSquaredError: 0.8783 - val_loss: 0.8213 - val_RootMeanSquaredError: 1.3994\n",
      "Epoch 25/1000\n",
      "11628/11628 [==============================] - 0s 36us/sample - loss: 0.5829 - RootMeanSquaredError: 0.8779 - val_loss: 0.8180 - val_RootMeanSquaredError: 1.3952\n",
      "Epoch 26/1000\n",
      "11628/11628 [==============================] - 0s 36us/sample - loss: 0.5823 - RootMeanSquaredError: 0.8774 - val_loss: 0.8175 - val_RootMeanSquaredError: 1.3990\n",
      "Epoch 27/1000\n",
      "11628/11628 [==============================] - 0s 36us/sample - loss: 0.5814 - RootMeanSquaredError: 0.8773 - val_loss: 0.8182 - val_RootMeanSquaredError: 1.3996\n",
      "Epoch 28/1000\n",
      "11628/11628 [==============================] - 0s 36us/sample - loss: 0.5807 - RootMeanSquaredError: 0.8758 - val_loss: 0.8218 - val_RootMeanSquaredError: 1.4107\n",
      "Epoch 29/1000\n",
      "11628/11628 [==============================] - 0s 36us/sample - loss: 0.5801 - RootMeanSquaredError: 0.8749 - val_loss: 0.8176 - val_RootMeanSquaredError: 1.3756\n",
      "Epoch 30/1000\n",
      "11628/11628 [==============================] - 0s 36us/sample - loss: 0.5794 - RootMeanSquaredError: 0.8740 - val_loss: 0.8178 - val_RootMeanSquaredError: 1.3819\n",
      "Epoch 31/1000\n",
      "11628/11628 [==============================] - 0s 36us/sample - loss: 0.5791 - RootMeanSquaredError: 0.8737 - val_loss: 0.8192 - val_RootMeanSquaredError: 1.4016\n",
      "Epoch 32/1000\n",
      "11628/11628 [==============================] - 0s 36us/sample - loss: 0.5787 - RootMeanSquaredError: 0.8730 - val_loss: 0.8156 - val_RootMeanSquaredError: 1.3835\n",
      "Epoch 33/1000\n",
      "11628/11628 [==============================] - 0s 36us/sample - loss: 0.5784 - RootMeanSquaredError: 0.8725 - val_loss: 0.8152 - val_RootMeanSquaredError: 1.3878\n",
      "Epoch 34/1000\n",
      "11628/11628 [==============================] - 0s 36us/sample - loss: 0.5785 - RootMeanSquaredError: 0.8737 - val_loss: 0.8188 - val_RootMeanSquaredError: 1.3692\n",
      "Epoch 35/1000\n",
      "11628/11628 [==============================] - 0s 36us/sample - loss: 0.5782 - RootMeanSquaredError: 0.8723 - val_loss: 0.8159 - val_RootMeanSquaredError: 1.3719\n",
      "Epoch 36/1000\n",
      "11628/11628 [==============================] - 0s 37us/sample - loss: 0.5779 - RootMeanSquaredError: 0.8715 - val_loss: 0.8261 - val_RootMeanSquaredError: 1.3561\n",
      "Epoch 37/1000\n",
      "11628/11628 [==============================] - 0s 36us/sample - loss: 0.5779 - RootMeanSquaredError: 0.8733 - val_loss: 0.8173 - val_RootMeanSquaredError: 1.3748\n",
      "Epoch 38/1000\n",
      "11628/11628 [==============================] - 0s 36us/sample - loss: 0.5768 - RootMeanSquaredError: 0.8704 - val_loss: 0.8300 - val_RootMeanSquaredError: 1.3628\n",
      "Epoch 39/1000\n",
      "11628/11628 [==============================] - 0s 37us/sample - loss: 0.5764 - RootMeanSquaredError: 0.8700 - val_loss: 0.8262 - val_RootMeanSquaredError: 1.3731\n",
      "Epoch 40/1000\n",
      "11628/11628 [==============================] - 0s 39us/sample - loss: 0.5763 - RootMeanSquaredError: 0.8697 - val_loss: 0.8263 - val_RootMeanSquaredError: 1.3653\n",
      "Epoch 41/1000\n",
      "11628/11628 [==============================] - 0s 42us/sample - loss: 0.5755 - RootMeanSquaredError: 0.8681 - val_loss: 0.8246 - val_RootMeanSquaredError: 1.3807\n",
      "Epoch 42/1000\n",
      "11628/11628 [==============================] - 1s 45us/sample - loss: 0.5748 - RootMeanSquaredError: 0.8689 - val_loss: 0.8249 - val_RootMeanSquaredError: 1.3807\n",
      "Epoch 43/1000\n",
      "11628/11628 [==============================] - 0s 42us/sample - loss: 0.5749 - RootMeanSquaredError: 0.8677 - val_loss: 0.8256 - val_RootMeanSquaredError: 1.3948\n"
     ]
    }
   ],
   "source": [
    "#Early Stopping\n",
    "es = EarlyStopping(patience=10)\n",
    "\n",
    "#Model\n",
    "model = Sequential()\n",
    "\n",
    "#Input\n",
    "model.add(Dense(4, input_dim=3, activation='relu'))\n",
    "\n",
    "#Hidden\n",
    "\n",
    "model.add(Dense(8, kernel_initializer='normal', activation='relu'))\n",
    "model.add(Dense(8, kernel_initializer='normal', activation='relu'))\n",
    "model.add(Dense(4, kernel_initializer='normal', activation='relu'))\n",
    "\n",
    "#Output\n",
    "model.add(Dense(1))\n",
    "\n",
    "#Compile\n",
    "model.compile(loss='mean_absolute_error',\n",
    "              metrics=['RootMeanSquaredError'],\n",
    "              optimizer='adam')\n",
    "\n",
    "#Fit & Evaluate\n",
    "history = model.fit(X_train, \n",
    "                    y_train, \n",
    "                    epochs=1000, \n",
    "                    verbose=True,\n",
    "                    validation_data=(X_val, y_val),\n",
    "                    callbacks=[es])"
   ]
  },
  {
   "cell_type": "code",
   "execution_count": 373,
   "metadata": {},
   "outputs": [
    {
     "data": {
      "image/png": "[encoded data removed]",
      "text/plain": [
       "<Figure size 432x288 with 1 Axes>"
      ]
     },
     "metadata": {
      "needs_background": "light"
     },
     "output_type": "display_data"
    }
   ],
   "source": [
    "# summarize history for accuracy\n",
    "plt.plot(history.history['loss'])\n",
    "plt.plot(history.history['val_loss'])\n",
    "plt.title('model loss')\n",
    "plt.ylabel('loss')\n",
    "plt.xlabel('epoch')\n",
    "plt.legend(['train', 'val'], loc='upper left')\n",
    "plt.show()"
   ]
  },
  {
   "cell_type": "code",
   "execution_count": 374,
   "metadata": {},
   "outputs": [
    {
     "name": "stdout",
     "output_type": "stream",
     "text": [
      "MAE: 2.8067834194081334\n",
      "\n",
      "MSE: 15.005860954286662\n",
      "\n",
      "RMSE: 3.873739918255569\n",
      "\n",
      "R^2: -2.220446049250313e-16\n",
      "\n"
     ]
    }
   ],
   "source": [
    "# Baseline\n",
    "scores(y_true_base, y_pred_base)"
   ]
  },
  {
   "cell_type": "code",
   "execution_count": 375,
   "metadata": {},
   "outputs": [
    {
     "name": "stdout",
     "output_type": "stream",
     "text": [
      "MAE: 0.8255576136180297\n",
      "\n",
      "MSE: 1.9454042406752283\n",
      "\n",
      "RMSE: 1.3947774878722514\n",
      "\n",
      "R^2: -0.08477324608000525\n",
      "\n"
     ]
    }
   ],
   "source": [
    "y_pred_ann = model.predict(X_val)\n",
    "\n",
    "scores(y_val, y_pred_ann)"
   ]
  },
  {
   "cell_type": "code",
   "execution_count": 376,
   "metadata": {},
   "outputs": [
    {
     "name": "stdout",
     "output_type": "stream",
     "text": [
      "MAE: 0.9060996081037537\n",
      "\n",
      "MSE: 1.8916704929115942\n",
      "\n",
      "RMSE: 1.3753801266964687\n",
      "\n",
      "R^2: -0.03691095676925582\n",
      "\n"
     ]
    }
   ],
   "source": [
    "y_pred_ann_test = model.predict(X_test)\n",
    "\n",
    "scores(y_test, y_pred_ann_test)"
   ]
  },
  {
   "cell_type": "code",
   "execution_count": 357,
   "metadata": {},
   "outputs": [],
   "source": [
    "model.save(\"ann_kWh.h5\")"
   ]
  },
  {
   "cell_type": "markdown",
   "metadata": {},
   "source": [
    "# Analysis\n",
    "\n",
    "Robust scaler is used for the inverse transform feature and to deal with outliers, so we can return predictions to front end in a human readable format. After inverse transforming the predicted results from the ANN the scores are actually worse than baseline. \n",
    "\n",
    "Its interesting that the scores were so good when calculating MSE, MAE, and RMSE, but R2 never improved."
   ]
  },
  {
   "cell_type": "code",
   "execution_count": 459,
   "metadata": {},
   "outputs": [
    {
     "name": "stdout",
     "output_type": "stream",
     "text": [
      "tester_concat shape: (3774, 3)\n",
      "Samp shape: (3774, 4)\n",
      "series_pred shape: (3774,)\n"
     ]
    },
    {
     "data": {
      "text/html": [
       "<div>\n",
       "<style scoped>\n",
       "    .dataframe tbody tr th:only-of-type {\n",
       "        vertical-align: middle;\n",
       "    }\n",
       "\n",
       "    .dataframe tbody tr th {\n",
       "        vertical-align: top;\n",
       "    }\n",
       "\n",
       "    .dataframe thead th {\n",
       "        text-align: right;\n",
       "    }\n",
       "</style>\n",
       "<table border=\"1\" class=\"dataframe\">\n",
       "  <thead>\n",
       "    <tr style=\"text-align: right;\">\n",
       "      <th></th>\n",
       "      <th>Year</th>\n",
       "      <th>Month</th>\n",
       "      <th>State</th>\n",
       "      <th>Data Status</th>\n",
       "      <th>Thousand Dollars</th>\n",
       "      <th>Megawatthours</th>\n",
       "      <th>Count</th>\n",
       "      <th>Cents/kWh</th>\n",
       "      <th>preds</th>\n",
       "      <th>pred_diff</th>\n",
       "    </tr>\n",
       "  </thead>\n",
       "  <tbody>\n",
       "    <tr>\n",
       "      <td>14688</td>\n",
       "      <td>2014</td>\n",
       "      <td>1</td>\n",
       "      <td>AK</td>\n",
       "      <td>Final</td>\n",
       "      <td>40154.77</td>\n",
       "      <td>229647.59</td>\n",
       "      <td>276855.0</td>\n",
       "      <td>17.49</td>\n",
       "      <td>11.147855</td>\n",
       "      <td>6.342145</td>\n",
       "    </tr>\n",
       "    <tr>\n",
       "      <td>14689</td>\n",
       "      <td>2014</td>\n",
       "      <td>1</td>\n",
       "      <td>AL</td>\n",
       "      <td>Final</td>\n",
       "      <td>404554.22</td>\n",
       "      <td>3785796.50</td>\n",
       "      <td>2158042.0</td>\n",
       "      <td>10.69</td>\n",
       "      <td>11.062391</td>\n",
       "      <td>-0.372391</td>\n",
       "    </tr>\n",
       "    <tr>\n",
       "      <td>14690</td>\n",
       "      <td>2014</td>\n",
       "      <td>1</td>\n",
       "      <td>AR</td>\n",
       "      <td>Final</td>\n",
       "      <td>165506.48</td>\n",
       "      <td>2001883.10</td>\n",
       "      <td>1305019.0</td>\n",
       "      <td>8.27</td>\n",
       "      <td>10.976927</td>\n",
       "      <td>-2.706927</td>\n",
       "    </tr>\n",
       "    <tr>\n",
       "      <td>14691</td>\n",
       "      <td>2014</td>\n",
       "      <td>1</td>\n",
       "      <td>AZ</td>\n",
       "      <td>Final</td>\n",
       "      <td>249052.89</td>\n",
       "      <td>2299846.30</td>\n",
       "      <td>2665763.0</td>\n",
       "      <td>10.83</td>\n",
       "      <td>10.911375</td>\n",
       "      <td>-0.081375</td>\n",
       "    </tr>\n",
       "    <tr>\n",
       "      <td>14692</td>\n",
       "      <td>2014</td>\n",
       "      <td>1</td>\n",
       "      <td>CA</td>\n",
       "      <td>Final</td>\n",
       "      <td>1287880.80</td>\n",
       "      <td>7772572.80</td>\n",
       "      <td>13236001.0</td>\n",
       "      <td>16.57</td>\n",
       "      <td>10.957213</td>\n",
       "      <td>5.612787</td>\n",
       "    </tr>\n",
       "  </tbody>\n",
       "</table>\n",
       "</div>"
      ],
      "text/plain": [
       "       Year  Month State Data Status  Thousand Dollars  Megawatthours  \\\n",
       "14688  2014      1    AK       Final          40154.77      229647.59   \n",
       "14689  2014      1    AL       Final         404554.22     3785796.50   \n",
       "14690  2014      1    AR       Final         165506.48     2001883.10   \n",
       "14691  2014      1    AZ       Final         249052.89     2299846.30   \n",
       "14692  2014      1    CA       Final        1287880.80     7772572.80   \n",
       "\n",
       "            Count  Cents/kWh      preds  pred_diff  \n",
       "14688    276855.0      17.49  11.147855   6.342145  \n",
       "14689   2158042.0      10.69  11.062391  -0.372391  \n",
       "14690   1305019.0       8.27  10.976927  -2.706927  \n",
       "14691   2665763.0      10.83  10.911375  -0.081375  \n",
       "14692  13236001.0      16.57  10.957213   5.612787  "
      ]
     },
     "execution_count": 459,
     "metadata": {},
     "output_type": "execute_result"
    }
   ],
   "source": [
    "#Pull out robust scaler from named steps to invers transform data\n",
    "rbs = ann_pipe.named_steps[\"robustscaler\"]\n",
    "\n",
    "# I need 4 coulmns to inverse transform insce the scaler was fitted on 4 columns\n",
    "# Keep first 3 columns of ann_test and drop the y\n",
    "tester_concat = ann_test[:, 0:3]\n",
    "\n",
    "print(f\"tester_concat shape: {tester_concat.shape}\")\n",
    "\n",
    "# Concat the predicted y to the column\n",
    "samp = np.concatenate([tester_concat, y_pred_ann_test], axis=1)\n",
    "\n",
    "print(f\"Samp shape: {samp.shape}\")\n",
    "\n",
    "# Reverse the scaling process\n",
    "samp_inverse = rbs.inverse_transform(samp)\n",
    "\n",
    "# Create a pandas Series to concat to the original val data to compare actual versus pred\n",
    "series_pred = pd.Series(samp_inverse[:, 3:].reshape(1,-1)[0])\n",
    "print(f\"series_pred shape: {series_pred.shape}\")\n",
    "\n",
    "#Create test copy \n",
    "test_pred = test.copy()\n",
    "\n",
    "# Create new column with inverse transformed preds\n",
    "test_pred[\"preds\"] = list(series_pred)\n",
    "\n",
    "# Create calculated difference column between actual and preds\n",
    "test_pred[\"pred_diff\"] = test_pred[\"Cents/kWh\"] - test_pred[\"preds\"]\n",
    "\n",
    "test_pred.head()"
   ]
  },
  {
   "cell_type": "code",
   "execution_count": 460,
   "metadata": {},
   "outputs": [
    {
     "name": "stdout",
     "output_type": "stream",
     "text": [
      "MAE: 2.7454818125543734\n",
      "\n",
      "MSE: 17.367237628372052\n",
      "\n",
      "RMSE: 4.1674017838903\n",
      "\n",
      "R^2: -0.03691095676925604\n",
      "\n"
     ]
    }
   ],
   "source": [
    "# Inverse transformed data is scored worse than baseline\n",
    "scores(test_pred[\"Cents/kWh\"], test_pred[\"preds\"])"
   ]
  },
  {
   "cell_type": "code",
   "execution_count": 461,
   "metadata": {},
   "outputs": [
    {
     "name": "stdout",
     "output_type": "stream",
     "text": [
      "MAE: 2.8067834194081334\n",
      "\n",
      "MSE: 15.005860954286662\n",
      "\n",
      "RMSE: 3.873739918255569\n",
      "\n",
      "R^2: -2.220446049250313e-16\n",
      "\n"
     ]
    }
   ],
   "source": [
    "# Baseline\n",
    "scores(y_true_base, y_pred_base)"
   ]
  },
  {
   "cell_type": "code",
   "execution_count": 464,
   "metadata": {},
   "outputs": [
    {
     "data": {
      "text/plain": [
       "<seaborn.axisgrid.FacetGrid at 0x18964cfd0>"
      ]
     },
     "execution_count": 464,
     "metadata": {},
     "output_type": "execute_result"
    },
    {
     "data": {
      "image/png": "[encoded data removed]",
      "text/plain": [
       "<Figure size 360x360 with 1 Axes>"
      ]
     },
     "metadata": {
      "needs_background": "light"
     },
     "output_type": "display_data"
    },
    {
     "data": {
      "image/png": "[encoded data removed]",
      "text/plain": [
       "<Figure size 360x360 with 1 Axes>"
      ]
     },
     "metadata": {
      "needs_background": "light"
     },
     "output_type": "display_data"
    }
   ],
   "source": [
    "#Order parameter uses np.polyfit to estimate a polynomial regression\n",
    "\n",
    "sns.lmplot(\"month\", \"prediction\", samp_df, x_estimator=np.mean, order=2)\n",
    "sns.lmplot(\"Month\", \"Cents/kWh\", val, x_estimator=np.mean, order=2)"
   ]
  }
 ],
 "metadata": {
  "kernelspec": {
   "display_name": "Python 3",
   "language": "python",
   "name": "python3"
  },
  "language_info": {
   "codemirror_mode": {
    "name": "ipython",
    "version": 3
   },
   "file_extension": ".py",
   "mimetype": "text/x-python",
   "name": "python",
   "nbconvert_exporter": "python",
   "pygments_lexer": "ipython3",
   "version": "3.7.4"
  }
 },
 "nbformat": 4,
 "nbformat_minor": 4
}
